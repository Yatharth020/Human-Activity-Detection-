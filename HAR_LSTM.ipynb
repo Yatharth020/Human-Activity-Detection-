{
 "cells": [
  {
   "cell_type": "markdown",
   "metadata": {
    "colab_type": "text",
    "id": "ctWlgXeYLuHN"
   },
   "source": [
    "# Section 1: Importing libraries and loading data "
   ]
  },
  {
   "cell_type": "code",
   "execution_count": 0,
   "metadata": {
    "colab": {},
    "colab_type": "code",
    "id": "UqnGvpKoEHbR"
   },
   "outputs": [],
   "source": [
    "import pandas as pd\n",
    "import numpy as np\n",
    "import matplotlib.pyplot as plt"
   ]
  },
  {
   "cell_type": "code",
   "execution_count": 0,
   "metadata": {
    "colab": {
     "base_uri": "https://localhost:8080/",
     "height": 121
    },
    "colab_type": "code",
    "id": "SLNR7lDtRYtB",
    "outputId": "ee2f7dcc-c654-4ef5-c324-ba03a30fed93"
   },
   "outputs": [
    {
     "name": "stdout",
     "output_type": "stream",
     "text": [
      "Go to this URL in a browser: https://accounts.google.com/o/oauth2/auth?client_id=947318989803-6bn6qk8qdgf4n4g3pfee6491hc0brc4i.apps.googleusercontent.com&redirect_uri=urn%3aietf%3awg%3aoauth%3a2.0%3aoob&response_type=code&scope=email%20https%3a%2f%2fwww.googleapis.com%2fauth%2fdocs.test%20https%3a%2f%2fwww.googleapis.com%2fauth%2fdrive%20https%3a%2f%2fwww.googleapis.com%2fauth%2fdrive.photos.readonly%20https%3a%2f%2fwww.googleapis.com%2fauth%2fpeopleapi.readonly\n",
      "\n",
      "Enter your authorization code:\n",
      "··········\n",
      "Mounted at /content/drive\n"
     ]
    }
   ],
   "source": [
    "from google.colab import drive\n",
    "drive.mount('/content/drive')"
   ]
  },
  {
   "cell_type": "markdown",
   "metadata": {
    "colab_type": "text",
    "id": "WGHl8yFgLuHb"
   },
   "source": [
    "## 1.1 Loading data and specifying label names"
   ]
  },
  {
   "cell_type": "code",
   "execution_count": 0,
   "metadata": {
    "colab": {},
    "colab_type": "code",
    "id": "PiREaXwQEHbT"
   },
   "outputs": [],
   "source": [
    "# Activities are the class labels\n",
    "# It is a 6 class classification\n",
    "ACTIVITIES = {\n",
    "    0: 'WALKING',\n",
    "    1: 'WALKING_UPSTAIRS',\n",
    "    2: 'WALKING_DOWNSTAIRS',\n",
    "    3: 'SITTING',\n",
    "    4: 'STANDING',\n",
    "    5: 'LAYING',\n",
    "}\n",
    "\n",
    "# Data directory\n",
    "DATADIR = 'UCI_HAR_Dataset'\n",
    "\n",
    "\n",
    "# Raw data signals\n",
    "# Signals are from Accelerometer and Gyroscope\n",
    "# The signals are in x,y,z directions\n",
    "# Sensor signals are filtered to have only body acceleration\n",
    "# excluding the acceleration due to gravity\n",
    "# Triaxial acceleration from the accelerometer is total acceleration\n",
    "SIGNALS = [\n",
    "    \"body_acc_x\",\n",
    "    \"body_acc_y\",\n",
    "    \"body_acc_z\",\n",
    "    \"body_gyro_x\",\n",
    "    \"body_gyro_y\",\n",
    "    \"body_gyro_z\",\n",
    "    \"total_acc_x\",\n",
    "    \"total_acc_y\",\n",
    "    \"total_acc_z\"\n",
    "]\n",
    "\n",
    "# Utility function to read the data from csv file\n",
    "def _read_csv(filename):\n",
    "    return pd.read_csv(filename, delim_whitespace=True, header=None)\n",
    "\n",
    "# Utility function to load the load\n",
    "def load_signals(subset):\n",
    "    signals_data = []\n",
    "\n",
    "    for signal in SIGNALS:\n",
    "        filename = f'drive/My Drive/UCI_HAR_Dataset/{subset}/Inertial Signals/{signal}_{subset}.txt'\n",
    "        signals_data.append(\n",
    "            _read_csv(filename).as_matrix()\n",
    "        ) \n",
    "\n",
    "    # Transpose is used to change the dimensionality of the output,\n",
    "    # aggregating the signals by combination of sample/timestep.\n",
    "    # Resultant shape is (7352 train/2947 test samples, 128 timesteps, 9 signals)\n",
    "    return np.transpose(signals_data, (1, 2, 0))\n",
    "# Utility function to print the confusion matrix"
   ]
  },
  {
   "cell_type": "markdown",
   "metadata": {
    "colab_type": "text",
    "id": "neZTeoPYEHbW"
   },
   "source": [
    "## 1.2 Reading Data"
   ]
  },
  {
   "cell_type": "code",
   "execution_count": 0,
   "metadata": {
    "colab": {},
    "colab_type": "code",
    "id": "9csGK4HWEHbg"
   },
   "outputs": [],
   "source": [
    "\n",
    "def load_y(subset):\n",
    "    \"\"\"\n",
    "    The objective that we are trying to predict is a integer, from 1 to 6,\n",
    "    that represents a human activity. We return a binary representation of \n",
    "    every sample objective as a 6 bits vector using One Hot Encoding\n",
    "    (https://pandas.pydata.org/pandas-docs/stable/generated/pandas.get_dummies.html)\n",
    "    \"\"\"\n",
    "    filename = f'drive/My Drive/UCI_HAR_Dataset/{subset}/y_{subset}.txt'\n",
    "    y = _read_csv(filename)[0]\n",
    "\n",
    "    return pd.get_dummies(y).as_matrix()\n",
    "\n",
    "#=============================================================\n",
    "\n",
    "def load_data():\n",
    "    \"\"\"\n",
    "    Obtain the dataset from multiple files.\n",
    "    Returns: X_train, X_test, y_train, y_test\n",
    "    \"\"\"\n",
    "    X_train, X_test = load_signals('train'), load_signals('test')\n",
    "    y_train, y_test = load_y('train'), load_y('test')\n",
    "\n",
    "    return X_train, X_test, y_train, y_test"
   ]
  },
  {
   "cell_type": "code",
   "execution_count": 0,
   "metadata": {
    "colab": {},
    "colab_type": "code",
    "id": "xioFOCulEHb2"
   },
   "outputs": [],
   "source": [
    "# Loading the train and test data\n",
    "X_train, X_test, Y_train, Y_test = load_data()"
   ]
  },
  {
   "cell_type": "markdown",
   "metadata": {
    "colab_type": "text",
    "id": "kBeyxEOFLuHs"
   },
   "source": [
    "# Section 2: Tensoflow backend and utility functions"
   ]
  },
  {
   "cell_type": "code",
   "execution_count": 0,
   "metadata": {
    "colab": {
     "base_uri": "https://localhost:8080/",
     "height": 62
    },
    "colab_type": "code",
    "id": "jfHwQ6tgEHbl",
    "outputId": "6c2a2cd0-968a-4c5c-be1a-27067e2a85b8"
   },
   "outputs": [
    {
     "data": {
      "text/html": [
       "<p style=\"color: red;\">\n",
       "The default version of TensorFlow in Colab will soon switch to TensorFlow 2.x.<br>\n",
       "We recommend you <a href=\"https://www.tensorflow.org/guide/migrate\" target=\"_blank\">upgrade</a> now \n",
       "or ensure your notebook will continue to use TensorFlow 1.x via the <code>%tensorflow_version 1.x</code> magic:\n",
       "<a href=\"https://colab.research.google.com/notebooks/tensorflow_version.ipynb\" target=\"_blank\">more info</a>.</p>\n"
      ],
      "text/plain": [
       "<IPython.core.display.HTML object>"
      ]
     },
     "metadata": {
      "tags": []
     },
     "output_type": "display_data"
    }
   ],
   "source": [
    "# Importing tensorflow\n",
    "np.random.seed(42)\n",
    "import tensorflow as tf\n",
    "tf.set_random_seed(42)"
   ]
  },
  {
   "cell_type": "code",
   "execution_count": 0,
   "metadata": {
    "colab": {},
    "colab_type": "code",
    "id": "8uyWMMh6EHbp"
   },
   "outputs": [],
   "source": [
    "# Configuring a session\n",
    "session_conf = tf.ConfigProto(\n",
    "    intra_op_parallelism_threads=1,\n",
    "    inter_op_parallelism_threads=1\n",
    ")"
   ]
  },
  {
   "cell_type": "code",
   "execution_count": 0,
   "metadata": {
    "colab": {
     "base_uri": "https://localhost:8080/",
     "height": 34
    },
    "colab_type": "code",
    "id": "3wEiPzVOEHbv",
    "outputId": "0c0e1476-4e3c-49bd-e562-b3593ff4f490"
   },
   "outputs": [
    {
     "name": "stderr",
     "output_type": "stream",
     "text": [
      "Using TensorFlow backend.\n"
     ]
    }
   ],
   "source": [
    "# Importing libraries\n",
    "# Import Keras\n",
    "from keras import backend as K\n",
    "sess = tf.Session(graph=tf.get_default_graph(), config=session_conf)\n",
    "K.set_session(sess)\n",
    "from keras.models import Sequential\n",
    "from keras.layers import LSTM\n",
    "from keras.layers.core import Dense, Dropout\n",
    "from keras.layers import BatchNormalization"
   ]
  },
  {
   "cell_type": "code",
   "execution_count": 0,
   "metadata": {
    "colab": {},
    "colab_type": "code",
    "id": "jdbFJh5yEHb0"
   },
   "outputs": [],
   "source": [
    "# Utility function to count the number of classes\n",
    "def _count_classes(y):\n",
    "    return len(set([tuple(category) for category in y]))"
   ]
  },
  {
   "cell_type": "code",
   "execution_count": 0,
   "metadata": {
    "colab": {
     "base_uri": "https://localhost:8080/",
     "height": 67
    },
    "colab_type": "code",
    "id": "jDcYVOryEHb5",
    "outputId": "53bbc0fe-913b-4ac8-bec7-ba767a159d77"
   },
   "outputs": [
    {
     "name": "stdout",
     "output_type": "stream",
     "text": [
      "Number of timesteps are for each of the input dimensions 128\n",
      "the input dimensions are  9\n",
      "size of training data is: 7352\n"
     ]
    }
   ],
   "source": [
    "timesteps = len(X_train[0])\n",
    "input_dim = len(X_train[0][0])\n",
    "n_classes = _count_classes(Y_train)\n",
    "\n",
    "print('Number of timesteps are for each of the input dimensions',timesteps)\n",
    "print('the input dimensions are ',input_dim)\n",
    "print('size of training data is:',len(X_train))"
   ]
  },
  {
   "cell_type": "code",
   "execution_count": 0,
   "metadata": {
    "colab": {},
    "colab_type": "code",
    "id": "sRfNp5kDUuiw"
   },
   "outputs": [],
   "source": [
    "import warnings\n",
    "warnings.filterwarnings('ignore')\n",
    "\n",
    "\n",
    "#function for saving and opening the file\n",
    "import pickle\n",
    "def savetofile(obj,filename):\n",
    "  pickle.dump(obj,open(filename+\".p\",'wb'))\n",
    "  \n",
    "def openfromfile(filename):\n",
    "  temp = pickle.load(open(filename+\".p\",'rb'))\n",
    "  return temp"
   ]
  },
  {
   "cell_type": "code",
   "execution_count": 0,
   "metadata": {
    "colab": {},
    "colab_type": "code",
    "id": "kQqdzWe3EHbx"
   },
   "outputs": [],
   "source": [
    "# Initializing batch size and number of epochs for all the models\n",
    "epochs = 30\n",
    "batch_size = 16\n"
   ]
  },
  {
   "cell_type": "code",
   "execution_count": 0,
   "metadata": {
    "colab": {},
    "colab_type": "code",
    "id": "LYNcZss4LuIN"
   },
   "outputs": [],
   "source": [
    "#functions to plot confusion matrix\n",
    "import itertools\n",
    "import numpy as np\n",
    "import matplotlib.pyplot as plt\n",
    "from sklearn.metrics import confusion_matrix\n",
    "from sklearn.metrics import classification_report,accuracy_score\n",
    "plt.rcParams[\"font.family\"] = 'DejaVu Sans'\n",
    "\n",
    "def plt_confusion_matrix(cm, classes,\n",
    "                          normalize=False,\n",
    "                          title='Confusion matrix',\n",
    "                          cmap=plt.cm.Blues):\n",
    "    if normalize:\n",
    "        cm = cm.astype('float') / cm.sum(axis=1)[:, np.newaxis]\n",
    "\n",
    "    plt.imshow(cm, interpolation='nearest', cmap=cmap)\n",
    "    plt.title(title)\n",
    "    plt.colorbar()\n",
    "    tick_marks = np.arange(len(classes))\n",
    "    plt.xticks(tick_marks, classes, rotation=90)\n",
    "    plt.yticks(tick_marks, classes)\n",
    "\n",
    "    fmt = '.2f' if normalize else 'd'\n",
    "    thresh = cm.max() / 2.\n",
    "    for i, j in itertools.product(range(cm.shape[0]), range(cm.shape[1])):\n",
    "        plt.text(j, i, format(cm[i, j], fmt),\n",
    "                 horizontalalignment=\"center\",\n",
    "                 color=\"white\" if cm[i, j] > thresh else \"black\")\n",
    "\n",
    "    plt.tight_layout()\n",
    "    plt.ylabel('True label')\n",
    "    plt.xlabel('Predicted label')"
   ]
  },
  {
   "cell_type": "code",
   "execution_count": 0,
   "metadata": {
    "colab": {},
    "colab_type": "code",
    "id": "El6uk7uZLuIQ"
   },
   "outputs": [],
   "source": [
    "#plotting the accuracy and classification report\n",
    "\n",
    "from datetime import datetime\n",
    "def perform_model(y_test,y_pred, class_labels, cm_normalize=True, \\\n",
    "                 print_cm=True, cm_cmap=plt.cm.Greens):\n",
    "    \n",
    "    results = dict()\n",
    "    Y_true = pd.Series([ACTIVITIES[y] for y in np.argmax(y_test, axis=1)])\n",
    "    Y_pred = pd.Series([ACTIVITIES[y] for y in np.argmax(y_pred, axis=1)])\n",
    "    # calculate overall accuracty of the model\n",
    "    accuracy = accuracy_score(y_true=Y_true, y_pred=Y_pred)\n",
    "    # store accuracy in results\n",
    "    results['accuracy'] = accuracy\n",
    "    print('For test data')\n",
    "    print('---------------------')\n",
    "    print('|      Accuracy      |')\n",
    "    print('---------------------')\n",
    "    print('\\n    {}\\n\\n'.format(accuracy))\n",
    "    \n",
    "    \n",
    "    # confusion matrix\n",
    "    cm = confusion_matrix(y_test,y_pred)\n",
    "    results['confusion_matrix'] = cm\n",
    "    if print_cm: \n",
    "        print('--------------------')\n",
    "        print('| Confusion Matrix |')\n",
    "        print('--------------------')\n",
    "        print('\\n {}'.format(cm))\n",
    "        \n",
    "    # plot confusin matrix\n",
    "    #plt.figure(figsize=(8,8))\n",
    "    #plt.grid(b=False)\n",
    "    #plot_confusion_matrix(cm, classes=class_labels, normalize=True, title='Normalized confusion matrix', cmap = cm_cmap)\n",
    "    #plt.show()\n",
    "    \n",
    "    # get classification report\n",
    "    print('-------------------------')\n",
    "    print('| Classifiction Report |')\n",
    "    print('-------------------------')\n",
    "    class_report = classification_report(Y_true, Y_pred)\n",
    "    # store report in results\n",
    "    results['class_report'] = classification_report\n",
    "    print(class_report)\n",
    "    \n",
    "    # add the trained  model to the results\n",
    "    #results['model'] = model\n",
    "    \n",
    "    return results,cm\n",
    "\n",
    "    \n",
    "    "
   ]
  },
  {
   "cell_type": "markdown",
   "metadata": {
    "colab_type": "text",
    "id": "z0dyuvLDj71X"
   },
   "source": [
    "# Section 3: Deep learning Architecture and Models"
   ]
  },
  {
   "cell_type": "markdown",
   "metadata": {
    "colab_type": "text",
    "id": "MF7CzsK6LuIW"
   },
   "source": [
    "so we will be implememting 4 different architectures here with different batchnormalization layers and dropout rates,and optimizers"
   ]
  },
  {
   "cell_type": "markdown",
   "metadata": {
    "colab_type": "text",
    "id": "wd0N1v-aLuIX"
   },
   "source": [
    "## 3.1 Model 1:  LSTM(32) + Batchnormalization + Dropout(0.3) + RmsProp"
   ]
  },
  {
   "cell_type": "code",
   "execution_count": 0,
   "metadata": {
    "colab": {
     "base_uri": "https://localhost:8080/",
     "height": 457
    },
    "colab_type": "code",
    "id": "DRF4jZ6WEHb9",
    "outputId": "0e617332-5d4e-4480-9c69-2551c21dc1b8"
   },
   "outputs": [
    {
     "name": "stdout",
     "output_type": "stream",
     "text": [
      "WARNING:tensorflow:From /usr/local/lib/python3.6/dist-packages/keras/backend/tensorflow_backend.py:541: The name tf.placeholder is deprecated. Please use tf.compat.v1.placeholder instead.\n",
      "\n",
      "WARNING:tensorflow:From /usr/local/lib/python3.6/dist-packages/keras/backend/tensorflow_backend.py:4432: The name tf.random_uniform is deprecated. Please use tf.random.uniform instead.\n",
      "\n",
      "WARNING:tensorflow:From /usr/local/lib/python3.6/dist-packages/keras/backend/tensorflow_backend.py:148: The name tf.placeholder_with_default is deprecated. Please use tf.compat.v1.placeholder_with_default instead.\n",
      "\n",
      "WARNING:tensorflow:From /usr/local/lib/python3.6/dist-packages/keras/backend/tensorflow_backend.py:3733: calling dropout (from tensorflow.python.ops.nn_ops) with keep_prob is deprecated and will be removed in a future version.\n",
      "Instructions for updating:\n",
      "Please use `rate` instead of `keep_prob`. Rate should be set to `rate = 1 - keep_prob`.\n",
      "Model: \"sequential_1\"\n",
      "_________________________________________________________________\n",
      "Layer (type)                 Output Shape              Param #   \n",
      "=================================================================\n",
      "lstm_1 (LSTM)                (None, 32)                5376      \n",
      "_________________________________________________________________\n",
      "batch_normalization_1 (Batch (None, 32)                128       \n",
      "_________________________________________________________________\n",
      "dropout_1 (Dropout)          (None, 32)                0         \n",
      "_________________________________________________________________\n",
      "dense_1 (Dense)              (None, 6)                 198       \n",
      "=================================================================\n",
      "Total params: 5,702\n",
      "Trainable params: 5,638\n",
      "Non-trainable params: 64\n",
      "_________________________________________________________________\n"
     ]
    }
   ],
   "source": [
    "# Initiliazing the sequential model\n",
    "n_hidden = 32\n",
    "model = Sequential()\n",
    "# Configuring the parameters\n",
    "model.add(LSTM(n_hidden, input_shape=(timesteps, input_dim)))\n",
    "\n",
    "\n",
    "# Adding a BatchNormalization layer\n",
    "model.add(BatchNormalization())\n",
    "\n",
    "#adding a dropout layer\n",
    "model.add(Dropout(0.3))\n",
    "\n",
    "# Adding a dense output layer with sigmoid activation\n",
    "model.add(Dense(n_classes, activation='sigmoid'))\n",
    "model.summary()"
   ]
  },
  {
   "cell_type": "code",
   "execution_count": 0,
   "metadata": {
    "colab": {
     "base_uri": "https://localhost:8080/",
     "height": 1000
    },
    "colab_type": "code",
    "id": "0degXa49EHb_",
    "outputId": "c81d37dd-8067-45fd-c298-c4b272ef9371"
   },
   "outputs": [
    {
     "name": "stdout",
     "output_type": "stream",
     "text": [
      "WARNING:tensorflow:From /usr/local/lib/python3.6/dist-packages/keras/optimizers.py:793: The name tf.train.Optimizer is deprecated. Please use tf.compat.v1.train.Optimizer instead.\n",
      "\n",
      "WARNING:tensorflow:From /usr/local/lib/python3.6/dist-packages/keras/backend/tensorflow_backend.py:3576: The name tf.log is deprecated. Please use tf.math.log instead.\n",
      "\n",
      "WARNING:tensorflow:From /usr/local/lib/python3.6/dist-packages/tensorflow_core/python/ops/math_grad.py:1424: where (from tensorflow.python.ops.array_ops) is deprecated and will be removed in a future version.\n",
      "Instructions for updating:\n",
      "Use tf.where in 2.0, which has the same broadcast rule as np.where\n",
      "WARNING:tensorflow:From /usr/local/lib/python3.6/dist-packages/keras/backend/tensorflow_backend.py:1033: The name tf.assign_add is deprecated. Please use tf.compat.v1.assign_add instead.\n",
      "\n",
      "WARNING:tensorflow:From /usr/local/lib/python3.6/dist-packages/keras/backend/tensorflow_backend.py:1020: The name tf.assign is deprecated. Please use tf.compat.v1.assign instead.\n",
      "\n",
      "Train on 7352 samples, validate on 2947 samples\n",
      "Epoch 1/30\n",
      "WARNING:tensorflow:From /usr/local/lib/python3.6/dist-packages/keras/backend/tensorflow_backend.py:190: The name tf.get_default_session is deprecated. Please use tf.compat.v1.get_default_session instead.\n",
      "\n",
      "WARNING:tensorflow:From /usr/local/lib/python3.6/dist-packages/keras/backend/tensorflow_backend.py:207: The name tf.global_variables is deprecated. Please use tf.compat.v1.global_variables instead.\n",
      "\n",
      "WARNING:tensorflow:From /usr/local/lib/python3.6/dist-packages/keras/backend/tensorflow_backend.py:216: The name tf.is_variable_initialized is deprecated. Please use tf.compat.v1.is_variable_initialized instead.\n",
      "\n",
      "WARNING:tensorflow:From /usr/local/lib/python3.6/dist-packages/keras/backend/tensorflow_backend.py:223: The name tf.variables_initializer is deprecated. Please use tf.compat.v1.variables_initializer instead.\n",
      "\n",
      "7352/7352 [==============================] - 119s 16ms/step - loss: 1.0557 - acc: 0.5335 - val_loss: 0.8607 - val_acc: 0.5881\n",
      "Epoch 2/30\n",
      "7352/7352 [==============================] - 102s 14ms/step - loss: 0.7560 - acc: 0.5817 - val_loss: 0.7688 - val_acc: 0.6098\n",
      "Epoch 3/30\n",
      "7352/7352 [==============================] - 99s 13ms/step - loss: 0.6784 - acc: 0.6178 - val_loss: 0.6830 - val_acc: 0.6485\n",
      "Epoch 4/30\n",
      "7352/7352 [==============================] - 98s 13ms/step - loss: 0.5846 - acc: 0.7167 - val_loss: 0.6987 - val_acc: 0.6980\n",
      "Epoch 5/30\n",
      "7352/7352 [==============================] - 106s 14ms/step - loss: 0.3940 - acc: 0.8414 - val_loss: 0.4036 - val_acc: 0.8521\n",
      "Epoch 6/30\n",
      "7352/7352 [==============================] - 107s 15ms/step - loss: 0.2726 - acc: 0.9132 - val_loss: 0.4896 - val_acc: 0.8578\n",
      "Epoch 7/30\n",
      "7352/7352 [==============================] - 102s 14ms/step - loss: 0.2279 - acc: 0.9203 - val_loss: 0.3373 - val_acc: 0.8850\n",
      "Epoch 8/30\n",
      "7352/7352 [==============================] - 102s 14ms/step - loss: 0.2101 - acc: 0.9275 - val_loss: 0.3588 - val_acc: 0.8914\n",
      "Epoch 9/30\n",
      "7352/7352 [==============================] - 102s 14ms/step - loss: 0.1973 - acc: 0.9248 - val_loss: 0.4287 - val_acc: 0.8918\n",
      "Epoch 10/30\n",
      "7352/7352 [==============================] - 103s 14ms/step - loss: 0.2004 - acc: 0.9286 - val_loss: 0.5229 - val_acc: 0.8649\n",
      "Epoch 11/30\n",
      "7352/7352 [==============================] - 104s 14ms/step - loss: 0.1723 - acc: 0.9372 - val_loss: 0.3266 - val_acc: 0.9033\n",
      "Epoch 12/30\n",
      "7352/7352 [==============================] - 105s 14ms/step - loss: 0.1780 - acc: 0.9370 - val_loss: 0.3539 - val_acc: 0.8951\n",
      "Epoch 13/30\n",
      "7352/7352 [==============================] - 102s 14ms/step - loss: 0.1753 - acc: 0.9359 - val_loss: 0.3288 - val_acc: 0.9138\n",
      "Epoch 14/30\n",
      "7352/7352 [==============================] - 107s 15ms/step - loss: 0.1772 - acc: 0.9380 - val_loss: 0.3317 - val_acc: 0.9152\n",
      "Epoch 15/30\n",
      "7352/7352 [==============================] - 103s 14ms/step - loss: 0.1775 - acc: 0.9378 - val_loss: 0.4120 - val_acc: 0.9026\n",
      "Epoch 16/30\n",
      "7352/7352 [==============================] - 104s 14ms/step - loss: 0.1622 - acc: 0.9402 - val_loss: 0.3215 - val_acc: 0.9162\n",
      "Epoch 17/30\n",
      "7352/7352 [==============================] - 110s 15ms/step - loss: 0.1615 - acc: 0.9415 - val_loss: 0.5116 - val_acc: 0.8833\n",
      "Epoch 18/30\n",
      "7352/7352 [==============================] - 109s 15ms/step - loss: 0.1731 - acc: 0.9429 - val_loss: 0.3719 - val_acc: 0.9118\n",
      "Epoch 19/30\n",
      "7352/7352 [==============================] - 107s 15ms/step - loss: 0.1662 - acc: 0.9423 - val_loss: 0.4025 - val_acc: 0.9114\n",
      "Epoch 20/30\n",
      "7352/7352 [==============================] - 104s 14ms/step - loss: 0.1660 - acc: 0.9438 - val_loss: 0.3589 - val_acc: 0.9026\n",
      "Epoch 21/30\n",
      "7352/7352 [==============================] - 112s 15ms/step - loss: 0.1589 - acc: 0.9415 - val_loss: 0.3407 - val_acc: 0.9060\n",
      "Epoch 22/30\n",
      "7352/7352 [==============================] - 107s 15ms/step - loss: 0.1512 - acc: 0.9430 - val_loss: 0.3713 - val_acc: 0.9138\n",
      "Epoch 23/30\n",
      "7352/7352 [==============================] - 109s 15ms/step - loss: 0.1483 - acc: 0.9431 - val_loss: 0.4803 - val_acc: 0.9087\n",
      "Epoch 24/30\n",
      "7352/7352 [==============================] - 108s 15ms/step - loss: 0.1438 - acc: 0.9433 - val_loss: 0.4046 - val_acc: 0.9104\n",
      "Epoch 25/30\n",
      "7352/7352 [==============================] - 107s 15ms/step - loss: 0.1795 - acc: 0.9408 - val_loss: 0.5475 - val_acc: 0.8989\n",
      "Epoch 26/30\n",
      "7352/7352 [==============================] - 108s 15ms/step - loss: 0.1472 - acc: 0.9471 - val_loss: 0.5127 - val_acc: 0.9023\n",
      "Epoch 27/30\n",
      "7352/7352 [==============================] - 110s 15ms/step - loss: 0.1427 - acc: 0.9460 - val_loss: 0.5528 - val_acc: 0.8968\n",
      "Epoch 28/30\n",
      "7352/7352 [==============================] - 109s 15ms/step - loss: 0.1526 - acc: 0.9489 - val_loss: 0.5177 - val_acc: 0.9026\n",
      "Epoch 29/30\n",
      "7352/7352 [==============================] - 101s 14ms/step - loss: 0.1452 - acc: 0.9448 - val_loss: 0.6232 - val_acc: 0.8931\n",
      "Epoch 30/30\n",
      "7352/7352 [==============================] - 104s 14ms/step - loss: 0.1468 - acc: 0.9455 - val_loss: 0.4055 - val_acc: 0.9189\n"
     ]
    }
   ],
   "source": [
    "# Compiling the model\n",
    "model.compile(loss='categorical_crossentropy',\n",
    "              optimizer='rmsprop',\n",
    "              metrics=['accuracy'])\n",
    "\n",
    "\n",
    "# Training the model\n",
    "history_1 = model.fit(X_train,\n",
    "          Y_train,\n",
    "          batch_size=batch_size,\n",
    "          validation_data=(X_test, Y_test),\n",
    "          epochs=epochs)"
   ]
  },
  {
   "cell_type": "code",
   "execution_count": 0,
   "metadata": {
    "colab": {
     "base_uri": "https://localhost:8080/",
     "height": 235
    },
    "colab_type": "code",
    "id": "0jtv5lQtshxG",
    "outputId": "fb9e42c8-d744-453f-aa91-accbefc7582d"
   },
   "outputs": [
    {
     "name": "stdout",
     "output_type": "stream",
     "text": [
      "2947/2947 [==============================] - 2s 776us/step\n",
      "loss on test data is 0.409051617424\n",
      "Accuracy on test data is: 0.905666779776\n"
     ]
    }
   ],
   "source": [
    "score = model_1.evaluate(X_test,Y_test)\n",
    "print('loss on test data is',score[0])\n",
    "print('Accuracy on test data is:',score[1])\n"
   ]
  },
  {
   "cell_type": "code",
   "execution_count": 0,
   "metadata": {
    "colab": {},
    "colab_type": "code",
    "id": "1SPwjqeYLuIj"
   },
   "outputs": [],
   "source": [
    "model_1 = openfromfile('model_lstm1')#getting the saved model"
   ]
  },
  {
   "cell_type": "code",
   "execution_count": 0,
   "metadata": {
    "colab": {},
    "colab_type": "code",
    "id": "SxHQKJENLuIn",
    "outputId": "2dcb75e3-9db1-4a9a-a3a0-73aa43fbf26e",
    "scrolled": false
   },
   "outputs": [
    {
     "name": "stdout",
     "output_type": "stream",
     "text": [
      "For test data\n",
      "---------------------\n",
      "|      Accuracy      |\n",
      "---------------------\n",
      "\n",
      "    0.9056667797760435\n",
      "\n",
      "\n",
      "--------------------\n",
      "| Confusion Matrix |\n",
      "--------------------\n",
      "\n",
      " Pred                LAYING  SITTING  STANDING  WALKING  WALKING_DOWNSTAIRS  \\\n",
      "True                                                                         \n",
      "LAYING                 509        1        27        0                   0   \n",
      "SITTING                  0      418        72        1                   0   \n",
      "STANDING                 0      114       417        1                   0   \n",
      "WALKING                  0        0         0      466                   0   \n",
      "WALKING_DOWNSTAIRS       0        0         0        0                 401   \n",
      "WALKING_UPSTAIRS         0        4         0        8                   1   \n",
      "\n",
      "Pred                WALKING_UPSTAIRS  \n",
      "True                                  \n",
      "LAYING                             0  \n",
      "SITTING                            0  \n",
      "STANDING                           0  \n",
      "WALKING                           30  \n",
      "WALKING_DOWNSTAIRS                19  \n",
      "WALKING_UPSTAIRS                 458  \n",
      "-------------------------\n",
      "| Classifiction Report |\n",
      "-------------------------\n",
      "                    precision    recall  f1-score   support\n",
      "\n",
      "            LAYING       1.00      0.95      0.97       537\n",
      "           SITTING       0.78      0.85      0.81       491\n",
      "          STANDING       0.81      0.78      0.80       532\n",
      "           WALKING       0.98      0.94      0.96       496\n",
      "WALKING_DOWNSTAIRS       1.00      0.95      0.98       420\n",
      "  WALKING_UPSTAIRS       0.90      0.97      0.94       471\n",
      "\n",
      "       avg / total       0.91      0.91      0.91      2947\n",
      "\n"
     ]
    },
    {
     "data": {
      "image/png": "[encoded data removed]",
      "text/plain": [
       "<Figure size 504x504 with 2 Axes>"
      ]
     },
     "metadata": {
      "tags": []
     },
     "output_type": "display_data"
    }
   ],
   "source": [
    "labels=['LAYING', 'SITTING','STANDING','WALKING','WALKING_DOWNSTAIRS','WALKING_UPSTAIRS']\n",
    "y_pred=model_1.predict(X_test)\n",
    "results_mod_1,cm_1 =  perform_model(Y_test,y_pred,labels, cm_normalize=True, \\\n",
    "                 print_cm=True, cm_cmap=plt.cm.Greens)\n",
    "\n",
    "\n",
    "#Get the confusion matrix\n",
    "\n",
    "cm_df=confusion_matrix(Y_test, y_pred) #Prepare the confusion matrix by using get_confusion_matrix() defined above.\n",
    "classes=list(cm_df.index) #Class names = Index Names or Column Names in cm_df\n",
    "\n",
    "#Plot a Non-Normalized confusion matrix\n",
    "#plot_confusion_matrix(cm_df, classes, normalize=False, title=\"NON-NORMALIZED CONFUSION MATRIX\")\n",
    "\n",
    "#Plot a Normalized confusion matrix\n",
    "plot_confusion_matrix(cm_df, classes, normalize=True, title=\"NORMALIZED CONFUSION MATRIX\")"
   ]
  },
  {
   "cell_type": "markdown",
   "metadata": {
    "colab_type": "text",
    "id": "HZd09NV7jSkT"
   },
   "source": [
    "## 3.2 : LSTM(80 cells) + LSTM (35 cells) + Dropout(0.4) +Dropout(0.2) + 1 BatchNormalization layers + Adam Optimizer\n",
    "\n",
    " "
   ]
  },
  {
   "cell_type": "code",
   "execution_count": 0,
   "metadata": {
    "colab": {
     "base_uri": "https://localhost:8080/",
     "height": 370
    },
    "colab_type": "code",
    "id": "4rgQFtN-nVLn",
    "outputId": "8c6ee0f1-27ad-4461-d456-94f1bf377109"
   },
   "outputs": [
    {
     "name": "stdout",
     "output_type": "stream",
     "text": [
      "Model: \"sequential_2\"\n",
      "_________________________________________________________________\n",
      "Layer (type)                 Output Shape              Param #   \n",
      "=================================================================\n",
      "lstm_2 (LSTM)                (None, 128, 80)           28800     \n",
      "_________________________________________________________________\n",
      "batch_normalization_2 (Batch (None, 128, 80)           320       \n",
      "_________________________________________________________________\n",
      "dropout_2 (Dropout)          (None, 128, 80)           0         \n",
      "_________________________________________________________________\n",
      "lstm_3 (LSTM)                (None, 35)                16240     \n",
      "_________________________________________________________________\n",
      "dropout_3 (Dropout)          (None, 35)                0         \n",
      "_________________________________________________________________\n",
      "dense_2 (Dense)              (None, 6)                 216       \n",
      "=================================================================\n",
      "Total params: 45,576\n",
      "Trainable params: 45,416\n",
      "Non-trainable params: 160\n",
      "_________________________________________________________________\n",
      "None\n"
     ]
    }
   ],
   "source": [
    "from keras.layers import BatchNormalization\n",
    "\n",
    "model = Sequential()\n",
    "\n",
    "model.add(LSTM(80,input_shape =(timesteps,input_dim),return_sequences = True ))\n",
    "model.add(BatchNormalization())\n",
    "model.add(Dropout(0.4))\n",
    "\n",
    "\n",
    "model.add(LSTM(35))\n",
    "model.add(Dropout(0.2))\n",
    "\n",
    "model.add(Dense(n_classes,activation = 'sigmoid'))#adding the output layer\n",
    "print(model.summary())\n"
   ]
  },
  {
   "cell_type": "code",
   "execution_count": 0,
   "metadata": {
    "colab": {
     "base_uri": "https://localhost:8080/",
     "height": 1000
    },
    "colab_type": "code",
    "id": "r3ekUUO7x1PM",
    "outputId": "adc14528-abcf-4cc0-cc8a-611d5dcdeb9f"
   },
   "outputs": [
    {
     "name": "stdout",
     "output_type": "stream",
     "text": [
      "Train on 7352 samples, validate on 2947 samples\n",
      "Epoch 1/30\n",
      "7352/7352 [==============================] - 208s 28ms/step - loss: 0.9093 - acc: 0.7252 - val_loss: 0.5509 - val_acc: 0.8582\n",
      "Epoch 2/30\n",
      "7352/7352 [==============================] - 203s 28ms/step - loss: 0.3749 - acc: 0.8898 - val_loss: 0.9213 - val_acc: 0.6827\n",
      "Epoch 3/30\n",
      "7352/7352 [==============================] - 208s 28ms/step - loss: 0.2522 - acc: 0.9208 - val_loss: 0.3453 - val_acc: 0.8884\n",
      "Epoch 4/30\n",
      "7352/7352 [==============================] - 209s 28ms/step - loss: 0.2355 - acc: 0.9223 - val_loss: 0.2817 - val_acc: 0.9094\n",
      "Epoch 5/30\n",
      "7352/7352 [==============================] - 211s 29ms/step - loss: 0.2029 - acc: 0.9285 - val_loss: 0.3546 - val_acc: 0.8809\n",
      "Epoch 6/30\n",
      "7352/7352 [==============================] - 210s 29ms/step - loss: 0.1750 - acc: 0.9357 - val_loss: 0.3565 - val_acc: 0.8968\n",
      "Epoch 7/30\n",
      "7352/7352 [==============================] - 209s 28ms/step - loss: 0.1619 - acc: 0.9404 - val_loss: 0.2893 - val_acc: 0.9067\n",
      "Epoch 8/30\n",
      "7352/7352 [==============================] - 210s 29ms/step - loss: 0.1537 - acc: 0.9433 - val_loss: 0.2291 - val_acc: 0.9121\n",
      "Epoch 9/30\n",
      "7352/7352 [==============================] - 195s 27ms/step - loss: 0.1653 - acc: 0.9363 - val_loss: 0.3283 - val_acc: 0.9019\n",
      "Epoch 10/30\n",
      "7352/7352 [==============================] - 201s 27ms/step - loss: 0.1395 - acc: 0.9468 - val_loss: 0.2660 - val_acc: 0.9145\n",
      "Epoch 11/30\n",
      "7352/7352 [==============================] - 201s 27ms/step - loss: 0.1305 - acc: 0.9476 - val_loss: 0.2538 - val_acc: 0.9135\n",
      "Epoch 12/30\n",
      "7352/7352 [==============================] - 196s 27ms/step - loss: 0.1824 - acc: 0.9300 - val_loss: 0.4976 - val_acc: 0.8069\n",
      "Epoch 13/30\n",
      "7352/7352 [==============================] - 194s 26ms/step - loss: 0.1628 - acc: 0.9382 - val_loss: 0.2509 - val_acc: 0.9179\n",
      "Epoch 14/30\n",
      "7352/7352 [==============================] - 204s 28ms/step - loss: 0.1564 - acc: 0.9373 - val_loss: 0.2320 - val_acc: 0.9189\n",
      "Epoch 15/30\n",
      "7352/7352 [==============================] - 197s 27ms/step - loss: 0.1537 - acc: 0.9422 - val_loss: 0.2283 - val_acc: 0.9213\n",
      "Epoch 16/30\n",
      "7352/7352 [==============================] - 204s 28ms/step - loss: 0.1347 - acc: 0.9471 - val_loss: 0.2534 - val_acc: 0.9189\n",
      "Epoch 17/30\n",
      "7352/7352 [==============================] - 199s 27ms/step - loss: 0.1292 - acc: 0.9487 - val_loss: 0.2549 - val_acc: 0.9226\n",
      "Epoch 18/30\n",
      "7352/7352 [==============================] - 204s 28ms/step - loss: 0.1252 - acc: 0.9479 - val_loss: 0.2785 - val_acc: 0.9158\n",
      "Epoch 19/30\n",
      "7352/7352 [==============================] - 207s 28ms/step - loss: 0.1290 - acc: 0.9471 - val_loss: 0.2822 - val_acc: 0.9220\n",
      "Epoch 20/30\n",
      "7352/7352 [==============================] - 210s 29ms/step - loss: 0.1272 - acc: 0.9516 - val_loss: 0.2545 - val_acc: 0.9128\n",
      "Epoch 21/30\n",
      "7352/7352 [==============================] - 208s 28ms/step - loss: 0.1292 - acc: 0.9491 - val_loss: 0.2950 - val_acc: 0.9101\n",
      "Epoch 22/30\n",
      "7352/7352 [==============================] - 212s 29ms/step - loss: 0.1397 - acc: 0.9455 - val_loss: 0.2285 - val_acc: 0.9237\n",
      "Epoch 23/30\n",
      "7352/7352 [==============================] - 196s 27ms/step - loss: 0.1251 - acc: 0.9527 - val_loss: 0.2074 - val_acc: 0.9108\n",
      "Epoch 24/30\n",
      "7352/7352 [==============================] - 197s 27ms/step - loss: 0.1215 - acc: 0.9493 - val_loss: 0.2607 - val_acc: 0.9155\n",
      "Epoch 25/30\n",
      "7352/7352 [==============================] - 199s 27ms/step - loss: 0.1208 - acc: 0.9508 - val_loss: 0.2148 - val_acc: 0.9220\n",
      "Epoch 26/30\n",
      "7352/7352 [==============================] - 194s 26ms/step - loss: 0.1205 - acc: 0.9512 - val_loss: 0.2908 - val_acc: 0.9040\n",
      "Epoch 27/30\n",
      "7352/7352 [==============================] - 194s 26ms/step - loss: 0.1197 - acc: 0.9521 - val_loss: 0.2617 - val_acc: 0.9104\n",
      "Epoch 28/30\n",
      "7352/7352 [==============================] - 193s 26ms/step - loss: 0.1305 - acc: 0.9483 - val_loss: 0.2899 - val_acc: 0.9162\n",
      "Epoch 29/30\n",
      "7352/7352 [==============================] - 189s 26ms/step - loss: 0.1221 - acc: 0.9508 - val_loss: 0.3288 - val_acc: 0.9114\n",
      "Epoch 30/30\n",
      "7352/7352 [==============================] - 185s 25ms/step - loss: 0.1298 - acc: 0.9499 - val_loss: 0.2430 - val_acc: 0.9121\n"
     ]
    }
   ],
   "source": [
    "model.compile(loss = 'categorical_crossentropy',optimizer = 'adam',metrics = ['accuracy'])\n",
    "history = model.fit(X_train,Y_train,batch_size = batch_size,validation_data = (X_test,Y_test),\n",
    "                    epochs = epochs)"
   ]
  },
  {
   "cell_type": "code",
   "execution_count": 0,
   "metadata": {
    "colab": {
     "base_uri": "https://localhost:8080/",
     "height": 67
    },
    "colab_type": "code",
    "id": "xy9Anrf7Yogr",
    "outputId": "8fdbce06-7fc9-4b16-8248-df09b0d16d45"
   },
   "outputs": [
    {
     "name": "stdout",
     "output_type": "stream",
     "text": [
      "2947/2947 [==============================] - 12s 4ms/step\n",
      "loss on test data is 0.24302211337054586\n",
      "Accuracy on test data is: 0.9121140142517815\n"
     ]
    }
   ],
   "source": [
    "score = model.evaluate(X_test,Y_test)\n",
    "print('loss on test data is',score[0])\n",
    "print('Accuracy on test data is:',score[1])\n",
    "\n",
    "\n",
    "history_lstm2 = savetofile(history,'history_lstm2')\n",
    "model_lstm2 = savetofile(model,'model_lstm2')"
   ]
  },
  {
   "cell_type": "code",
   "execution_count": 0,
   "metadata": {
    "colab": {},
    "colab_type": "code",
    "id": "6jz6Xb_fLuI4"
   },
   "outputs": [],
   "source": [
    "model_2 = openfromfile('model_lstm2')\n",
    "#history_2 = openfromfile('history_lstm2')\n"
   ]
  },
  {
   "cell_type": "code",
   "execution_count": 0,
   "metadata": {
    "colab": {},
    "colab_type": "code",
    "id": "OUap686SLuI8",
    "outputId": "7c7721ed-211c-4a8a-ef0e-7aa6d02a1f2b"
   },
   "outputs": [
    {
     "name": "stdout",
     "output_type": "stream",
     "text": [
      "For test data\n",
      "---------------------\n",
      "|      Accuracy      |\n",
      "---------------------\n",
      "\n",
      "    0.9121140142517815\n",
      "\n",
      "\n",
      "--------------------\n",
      "| Confusion Matrix |\n",
      "--------------------\n",
      "\n",
      " Pred                LAYING  SITTING  STANDING  WALKING  WALKING_DOWNSTAIRS  \\\n",
      "True                                                                         \n",
      "LAYING                 537        0         0        0                   0   \n",
      "SITTING                  6      423        61        0                   0   \n",
      "STANDING                 0      129       402        1                   0   \n",
      "WALKING                  0        0         0      478                  17   \n",
      "WALKING_DOWNSTAIRS       0        0         0        2                 417   \n",
      "WALKING_UPSTAIRS         0        0         0       15                  25   \n",
      "\n",
      "Pred                WALKING_UPSTAIRS  \n",
      "True                                  \n",
      "LAYING                             0  \n",
      "SITTING                            1  \n",
      "STANDING                           0  \n",
      "WALKING                            1  \n",
      "WALKING_DOWNSTAIRS                 1  \n",
      "WALKING_UPSTAIRS                 431  \n",
      "-------------------------\n",
      "| Classifiction Report |\n",
      "-------------------------\n",
      "                    precision    recall  f1-score   support\n",
      "\n",
      "            LAYING       0.99      1.00      0.99       537\n",
      "           SITTING       0.77      0.86      0.81       491\n",
      "          STANDING       0.87      0.76      0.81       532\n",
      "           WALKING       0.96      0.96      0.96       496\n",
      "WALKING_DOWNSTAIRS       0.91      0.99      0.95       420\n",
      "  WALKING_UPSTAIRS       0.99      0.92      0.95       471\n",
      "\n",
      "       avg / total       0.92      0.91      0.91      2947\n",
      "\n"
     ]
    },
    {
     "data": {
      "image/png": "[encoded data removed]",
      "text/plain": [
       "<Figure size 504x504 with 2 Axes>"
      ]
     },
     "metadata": {
      "tags": []
     },
     "output_type": "display_data"
    }
   ],
   "source": [
    "y_pred=model_2.predict(X_test)\n",
    "results_mod_2,cm_2 =  perform_model(Y_test,y_pred,labels, cm_normalize=True, \\\n",
    "                 print_cm=True, cm_cmap=plt.cm.Greens)\n",
    "\n",
    "\n",
    "#Get the confusion matrix\n",
    "\n",
    "cm_df=confusion_matrix(Y_test, y_pred) #Prepare the confusion matrix by using get_confusion_matrix() defined above.\n",
    "classes=list(cm_df.index) #Class names = Index Names or Column Names in cm_df\n",
    "\n",
    "#Plot a Non-Normalized confusion matrix\n",
    "#plot_confusion_matrix(cm_df, classes, normalize=False, title=\"NON-NORMALIZED CONFUSION MATRIX\")\n",
    "\n",
    "#Plot a Normalized confusion matrix\n",
    "plot_confusion_matrix(cm_df, classes, normalize=True, title=\"NORMALIZED CONFUSION MATRIX\")"
   ]
  },
  {
   "cell_type": "markdown",
   "metadata": {
    "colab_type": "text",
    "id": "h-VmKjtILuJA"
   },
   "source": [
    " ## 3.3: Conv1d(64) +Conv1d(48) +Maxpooling(2) + Batchnormalization + Dropout(0.5) +Dense(100)"
   ]
  },
  {
   "cell_type": "code",
   "execution_count": 0,
   "metadata": {
    "colab": {},
    "colab_type": "code",
    "id": "LCz6f5YpCBbF"
   },
   "outputs": [],
   "source": [
    "#implementing 1 dimensional convnet with 3d tensor as input\n",
    "from keras.layers import Flatten\n",
    "from keras.layers.convolutional import Conv1D\n",
    "from keras.layers.convolutional import MaxPooling1D\n",
    "from keras.initializers import he_normal\n",
    "from keras.layers import BatchNormalization\n"
   ]
  },
  {
   "cell_type": "code",
   "execution_count": 0,
   "metadata": {
    "colab": {},
    "colab_type": "code",
    "id": "v5McbXifgJ2O"
   },
   "outputs": [],
   "source": [
    "import warnings\n",
    "warnings.filterwarnings('ignore')"
   ]
  },
  {
   "cell_type": "code",
   "execution_count": 0,
   "metadata": {
    "colab": {
     "base_uri": "https://localhost:8080/",
     "height": 1000
    },
    "colab_type": "code",
    "id": "KpTAljEKCBeB",
    "outputId": "e20c16ac-6990-4e0d-c6c0-fa19657eff59"
   },
   "outputs": [
    {
     "name": "stdout",
     "output_type": "stream",
     "text": [
      "WARNING:tensorflow:From /usr/local/lib/python3.6/dist-packages/keras/backend/tensorflow_backend.py:4479: The name tf.truncated_normal is deprecated. Please use tf.random.truncated_normal instead.\n",
      "\n",
      "WARNING:tensorflow:From /usr/local/lib/python3.6/dist-packages/keras/backend/tensorflow_backend.py:4267: The name tf.nn.max_pool is deprecated. Please use tf.nn.max_pool2d instead.\n",
      "\n",
      "Model: \"sequential_3\"\n",
      "_________________________________________________________________\n",
      "Layer (type)                 Output Shape              Param #   \n",
      "=================================================================\n",
      "conv1d_1 (Conv1D)            (None, 126, 64)           1792      \n",
      "_________________________________________________________________\n",
      "conv1d_2 (Conv1D)            (None, 124, 48)           9264      \n",
      "_________________________________________________________________\n",
      "max_pooling1d_1 (MaxPooling1 (None, 62, 48)            0         \n",
      "_________________________________________________________________\n",
      "batch_normalization_2 (Batch (None, 62, 48)            192       \n",
      "_________________________________________________________________\n",
      "dropout_2 (Dropout)          (None, 62, 48)            0         \n",
      "_________________________________________________________________\n",
      "flatten_1 (Flatten)          (None, 2976)              0         \n",
      "_________________________________________________________________\n",
      "dense_2 (Dense)              (None, 100)               297700    \n",
      "_________________________________________________________________\n",
      "batch_normalization_3 (Batch (None, 100)               400       \n",
      "_________________________________________________________________\n",
      "dropout_3 (Dropout)          (None, 100)               0         \n",
      "_________________________________________________________________\n",
      "dense_3 (Dense)              (None, 6)                 606       \n",
      "=================================================================\n",
      "Total params: 309,954\n",
      "Trainable params: 309,658\n",
      "Non-trainable params: 296\n",
      "_________________________________________________________________\n",
      "None\n",
      "Train on 7352 samples, validate on 2947 samples\n",
      "Epoch 1/30\n",
      "7352/7352 [==============================] - 11s 2ms/step - loss: 0.5626 - acc: 0.7969 - val_loss: 0.3584 - val_acc: 0.8728\n",
      "Epoch 2/30\n",
      "7352/7352 [==============================] - 5s 621us/step - loss: 0.2560 - acc: 0.9013 - val_loss: 0.5298 - val_acc: 0.8334\n",
      "Epoch 3/30\n",
      "7352/7352 [==============================] - 5s 634us/step - loss: 0.2091 - acc: 0.9222 - val_loss: 0.3970 - val_acc: 0.8846\n",
      "Epoch 4/30\n",
      "7352/7352 [==============================] - 5s 625us/step - loss: 0.1758 - acc: 0.9302 - val_loss: 0.5070 - val_acc: 0.8490\n",
      "Epoch 5/30\n",
      "7352/7352 [==============================] - 4s 595us/step - loss: 0.1681 - acc: 0.9362 - val_loss: 0.3683 - val_acc: 0.8897\n",
      "Epoch 6/30\n",
      "7352/7352 [==============================] - 4s 611us/step - loss: 0.1576 - acc: 0.9378 - val_loss: 0.3331 - val_acc: 0.9169\n",
      "Epoch 7/30\n",
      "7352/7352 [==============================] - 5s 623us/step - loss: 0.1458 - acc: 0.9429 - val_loss: 0.3711 - val_acc: 0.9080\n",
      "Epoch 8/30\n",
      "7352/7352 [==============================] - 4s 608us/step - loss: 0.1390 - acc: 0.9437 - val_loss: 0.3642 - val_acc: 0.8985\n",
      "Epoch 9/30\n",
      "7352/7352 [==============================] - 5s 620us/step - loss: 0.1341 - acc: 0.9437 - val_loss: 0.3172 - val_acc: 0.9169\n",
      "Epoch 10/30\n",
      "7352/7352 [==============================] - 4s 590us/step - loss: 0.1328 - acc: 0.9457 - val_loss: 0.3769 - val_acc: 0.9040\n",
      "Epoch 11/30\n",
      "7352/7352 [==============================] - 4s 602us/step - loss: 0.1248 - acc: 0.9505 - val_loss: 0.3528 - val_acc: 0.9158\n",
      "Epoch 12/30\n",
      "7352/7352 [==============================] - 5s 649us/step - loss: 0.1213 - acc: 0.9480 - val_loss: 0.3666 - val_acc: 0.9080\n",
      "Epoch 13/30\n",
      "7352/7352 [==============================] - 4s 608us/step - loss: 0.1278 - acc: 0.9456 - val_loss: 0.3829 - val_acc: 0.9040\n",
      "Epoch 14/30\n",
      "7352/7352 [==============================] - 5s 634us/step - loss: 0.1251 - acc: 0.9504 - val_loss: 0.3763 - val_acc: 0.9128\n",
      "Epoch 15/30\n",
      "7352/7352 [==============================] - 5s 620us/step - loss: 0.1154 - acc: 0.9525 - val_loss: 0.3565 - val_acc: 0.9131\n",
      "Epoch 16/30\n",
      "7352/7352 [==============================] - 4s 592us/step - loss: 0.1133 - acc: 0.9531 - val_loss: 0.3323 - val_acc: 0.9206\n",
      "Epoch 17/30\n",
      "7352/7352 [==============================] - 4s 610us/step - loss: 0.1072 - acc: 0.9546 - val_loss: 0.3604 - val_acc: 0.9172\n",
      "Epoch 18/30\n",
      "7352/7352 [==============================] - 4s 567us/step - loss: 0.1032 - acc: 0.9587 - val_loss: 0.4090 - val_acc: 0.8751\n",
      "Epoch 19/30\n",
      "7352/7352 [==============================] - 4s 534us/step - loss: 0.1017 - acc: 0.9576 - val_loss: 0.3916 - val_acc: 0.9179\n",
      "Epoch 20/30\n",
      "7352/7352 [==============================] - 4s 573us/step - loss: 0.1054 - acc: 0.9547 - val_loss: 0.3769 - val_acc: 0.9053\n",
      "Epoch 21/30\n",
      "7352/7352 [==============================] - 4s 550us/step - loss: 0.1063 - acc: 0.9547 - val_loss: 0.3801 - val_acc: 0.9203\n",
      "Epoch 22/30\n",
      "7352/7352 [==============================] - 4s 560us/step - loss: 0.0979 - acc: 0.9589 - val_loss: 0.3861 - val_acc: 0.9097\n",
      "Epoch 23/30\n",
      "7352/7352 [==============================] - 4s 558us/step - loss: 0.0957 - acc: 0.9581 - val_loss: 0.3184 - val_acc: 0.9253\n",
      "Epoch 24/30\n",
      "7352/7352 [==============================] - 4s 537us/step - loss: 0.0931 - acc: 0.9614 - val_loss: 0.3612 - val_acc: 0.9084\n",
      "Epoch 25/30\n",
      "7352/7352 [==============================] - 4s 560us/step - loss: 0.0977 - acc: 0.9592 - val_loss: 0.3736 - val_acc: 0.9223\n",
      "Epoch 26/30\n",
      "7352/7352 [==============================] - 4s 578us/step - loss: 0.0941 - acc: 0.9584 - val_loss: 0.4046 - val_acc: 0.9186\n",
      "Epoch 27/30\n",
      "7352/7352 [==============================] - 4s 545us/step - loss: 0.1000 - acc: 0.9591 - val_loss: 0.3557 - val_acc: 0.9019\n",
      "Epoch 28/30\n",
      "7352/7352 [==============================] - 4s 602us/step - loss: 0.0870 - acc: 0.9645 - val_loss: 0.3838 - val_acc: 0.9203\n",
      "Epoch 29/30\n",
      "7352/7352 [==============================] - 4s 542us/step - loss: 0.0909 - acc: 0.9608 - val_loss: 0.3836 - val_acc: 0.9070\n",
      "Epoch 30/30\n",
      "7352/7352 [==============================] - 4s 525us/step - loss: 0.0835 - acc: 0.9645 - val_loss: 0.3845 - val_acc: 0.9091\n"
     ]
    }
   ],
   "source": [
    "#defining the model\n",
    "# we will be tuning the model with different number of filters and different size \n",
    "\n",
    "model = Sequential()\n",
    "model.add(Conv1D(filters = 64,kernel_size = 3,activation = 'relu',kernel_initializer = he_normal(seed = None),input_shape = (timesteps,input_dim)))\n",
    "model.add(Conv1D(filters = 48,kernel_size = 3,activation = 'relu',kernel_initializer = he_normal(seed = None)))\n",
    "model.add(MaxPooling1D(pool_size = 2))\n",
    "model.add(BatchNormalization())\n",
    "\n",
    "#adding the dropout layer\n",
    "model.add(Dropout(0.5))\n",
    "\n",
    "model.add(Flatten())\n",
    "model.add(Dense(100,activation = 'relu',kernel_initializer = he_normal(seed = None)))\n",
    "model.add(BatchNormalization())\n",
    "model.add(Dropout(0.5))\n",
    "model.add(Dense(n_classes,activation = 'softmax'))\n",
    "\n",
    "print(model.summary())\n",
    "\n",
    "#compiling with adam optimizer \n",
    "\n",
    "model.compile(loss = 'categorical_crossentropy',optimizer = 'adam',metrics = ['accuracy'])\n",
    "history = model.fit(X_train,Y_train,batch_size = batch_size,epochs = epochs,validation_data = (X_test,Y_test))"
   ]
  },
  {
   "cell_type": "markdown",
   "metadata": {
    "colab_type": "text",
    "id": "-3fnRKuBwlsy"
   },
   "source": []
  },
  {
   "cell_type": "code",
   "execution_count": 0,
   "metadata": {
    "colab": {
     "base_uri": "https://localhost:8080/",
     "height": 67
    },
    "colab_type": "code",
    "id": "ntqZgXicCBih",
    "outputId": "90c4ce0a-493b-4c92-9aeb-9e3809c00566"
   },
   "outputs": [
    {
     "name": "stdout",
     "output_type": "stream",
     "text": [
      "2947/2947 [==============================] - 0s 117us/step\n",
      "Loss on test data is: 0.3845438683092381\n",
      "accuracy on test data is: 0.9090600610790635\n"
     ]
    }
   ],
   "source": [
    "score = model.evaluate(X_test,Y_test)\n",
    "print('Loss on test data is:',score[0])\n",
    "print('accuracy on test data is:',score[1])"
   ]
  },
  {
   "cell_type": "code",
   "execution_count": 0,
   "metadata": {
    "colab": {},
    "colab_type": "code",
    "id": "oCJdPzxACCBK"
   },
   "outputs": [],
   "source": [
    "history_cnn = savetofile(history,'history_cnn')\n",
    "model_cnn = savetofile(model,'model_cnn')"
   ]
  },
  {
   "cell_type": "code",
   "execution_count": 0,
   "metadata": {
    "colab": {},
    "colab_type": "code",
    "id": "YYk-qMaGLuJV"
   },
   "outputs": [],
   "source": [
    "model_3 = openfromfile('model_cnn')\n",
    "#history_3 = openfromfile('history_cnn')"
   ]
  },
  {
   "cell_type": "code",
   "execution_count": 0,
   "metadata": {
    "colab": {},
    "colab_type": "code",
    "id": "5AZJFPqwLuJc",
    "outputId": "188ddb19-0bdf-4016-e188-f4dbb2427cc9"
   },
   "outputs": [
    {
     "name": "stdout",
     "output_type": "stream",
     "text": [
      "For test data\n",
      "---------------------\n",
      "|      Accuracy      |\n",
      "---------------------\n",
      "\n",
      "    0.9090600610790635\n",
      "\n",
      "\n",
      "--------------------\n",
      "| Confusion Matrix |\n",
      "--------------------\n",
      "\n",
      " Pred                LAYING  SITTING  STANDING  WALKING  WALKING_DOWNSTAIRS  \\\n",
      "True                                                                         \n",
      "LAYING                 537        0         0        0                   0   \n",
      "SITTING                  0      399        66        0                   0   \n",
      "STANDING                 0      115       409        1                   0   \n",
      "WALKING                  0        0         0      469                  26   \n",
      "WALKING_DOWNSTAIRS       0        0         0        0                 418   \n",
      "WALKING_UPSTAIRS         0        0         0        0                  24   \n",
      "\n",
      "Pred                WALKING_UPSTAIRS  \n",
      "True                                  \n",
      "LAYING                             0  \n",
      "SITTING                           26  \n",
      "STANDING                           7  \n",
      "WALKING                            1  \n",
      "WALKING_DOWNSTAIRS                 2  \n",
      "WALKING_UPSTAIRS                 447  \n",
      "-------------------------\n",
      "| Classifiction Report |\n",
      "-------------------------\n",
      "                    precision    recall  f1-score   support\n",
      "\n",
      "            LAYING       1.00      1.00      1.00       537\n",
      "           SITTING       0.78      0.81      0.79       491\n",
      "          STANDING       0.86      0.77      0.81       532\n",
      "           WALKING       1.00      0.95      0.97       496\n",
      "WALKING_DOWNSTAIRS       0.89      1.00      0.94       420\n",
      "  WALKING_UPSTAIRS       0.93      0.95      0.94       471\n",
      "\n",
      "       avg / total       0.91      0.91      0.91      2947\n",
      "\n"
     ]
    },
    {
     "data": {
      "image/png": "[encoded data removed]",
      "text/plain": [
       "<Figure size 504x504 with 2 Axes>"
      ]
     },
     "metadata": {
      "tags": []
     },
     "output_type": "display_data"
    }
   ],
   "source": [
    "y_pred=model_3.predict(X_test)\n",
    "results_mod_3,cm_3 =  perform_model(Y_test,y_pred,labels, cm_normalize=True, \\\n",
    "                 print_cm=True, cm_cmap=plt.cm.Greens)\n",
    "\n",
    "\n",
    "#Get the confusion matrix\n",
    "\n",
    "cm_df=confusion_matrix(Y_test, y_pred) #Prepare the confusion matrix by using get_confusion_matrix() defined above.\n",
    "classes=list(cm_df.index) #Class names = Index Names or Column Names in cm_df\n",
    "\n",
    "#Plot a Non-Normalized confusion matrix\n",
    "#plot_confusion_matrix(cm_df, classes, normalize=False, title=\"NON-NORMALIZED CONFUSION MATRIX\")\n",
    "\n",
    "#Plot a Normalized confusion matrix\n",
    "plot_confusion_matrix(cm_df, classes, normalize=True, title=\"NORMALIZED CONFUSION MATRIX\")"
   ]
  },
  {
   "cell_type": "markdown",
   "metadata": {
    "colab_type": "text",
    "id": "SJm8nLLxgbQG"
   },
   "source": [
    "## 3.4 LSTM(100) + Dropout(0.7) + LSTM(50) + Dropout(0.7) + RmsProp"
   ]
  },
  {
   "cell_type": "code",
   "execution_count": 0,
   "metadata": {
    "colab": {},
    "colab_type": "code",
    "id": "Aw7EuWzwbATj"
   },
   "outputs": [],
   "source": [
    "from keras.regularizers import L1L2\n",
    "reg = L1L2(0.01,0.01)"
   ]
  },
  {
   "cell_type": "code",
   "execution_count": 0,
   "metadata": {
    "colab": {
     "base_uri": "https://localhost:8080/",
     "height": 403
    },
    "colab_type": "code",
    "id": "dqwZHrBLapG2",
    "outputId": "4e9544ba-dc7a-4b21-9e26-3815414d4c8b"
   },
   "outputs": [
    {
     "name": "stdout",
     "output_type": "stream",
     "text": [
      "Model Summary: \n",
      "_________________________________________________________________\n",
      "Layer (type)                 Output Shape              Param #   \n",
      "=================================================================\n",
      "lstm_1 (LSTM)                (None, 128, 100)          44000     \n",
      "_________________________________________________________________\n",
      "batch_normalization_1 (Batch (None, 128, 100)          400       \n",
      "_________________________________________________________________\n",
      "dropout_1 (Dropout)          (None, 128, 100)          0         \n",
      "_________________________________________________________________\n",
      "lstm_2 (LSTM)                (None, 50)                30200     \n",
      "_________________________________________________________________\n",
      "dropout_2 (Dropout)          (None, 50)                0         \n",
      "_________________________________________________________________\n",
      "dense_1 (Dense)              (None, 6)                 306       \n",
      "=================================================================\n",
      "Total params: 74,906\n",
      "Trainable params: 74,706\n",
      "Non-trainable params: 200\n",
      "_________________________________________________________________\n"
     ]
    }
   ],
   "source": [
    "model = Sequential()\n",
    "model.add(LSTM(100, input_shape=(timesteps, input_dim), kernel_initializer='glorot_normal' , return_sequences=True, bias_regularizer=reg))\n",
    "model.add(BatchNormalization())\n",
    "model.add(Dropout(0.70))\n",
    "model.add(LSTM(50))\n",
    "model.add(Dropout(0.70))\n",
    "model.add(Dense(n_classes, activation='sigmoid'))\n",
    "print(\"Model Summary: \")\n",
    "model.summary()"
   ]
  },
  {
   "cell_type": "code",
   "execution_count": 0,
   "metadata": {
    "colab": {
     "base_uri": "https://localhost:8080/",
     "height": 706
    },
    "colab_type": "code",
    "id": "8GTq_wM3avKb",
    "outputId": "c6fd4932-fd95-44b3-82c0-a19d712a5d73"
   },
   "outputs": [
    {
     "name": "stdout",
     "output_type": "stream",
     "text": [
      "Train on 7352 samples, validate on 2947 samples\n",
      "Epoch 1/30\n",
      "7352/7352 [==============================] - 142s 19ms/step - loss: 1.7124 - acc: 0.8491 - val_loss: 1.1561 - val_acc: 0.8787\n",
      "Epoch 2/30\n",
      "7352/7352 [==============================] - 155s 21ms/step - loss: 0.6482 - acc: 0.9057 - val_loss: 0.2787 - val_acc: 0.9185\n",
      "Epoch 3/30\n",
      "7352/7352 [==============================] - 149s 20ms/step - loss: 0.1732 - acc: 0.9380 - val_loss: 0.1416 - val_acc: 0.9497\n",
      "Epoch 4/30\n",
      "7352/7352 [==============================] - 144s 20ms/step - loss: 0.1283 - acc: 0.9560 - val_loss: 0.2491 - val_acc: 0.9179\n",
      "Epoch 5/30\n",
      "7352/7352 [==============================] - 139s 19ms/step - loss: 0.1061 - acc: 0.9635 - val_loss: 0.1095 - val_acc: 0.9603\n",
      "Epoch 6/30\n",
      "7352/7352 [==============================] - 142s 19ms/step - loss: 0.0932 - acc: 0.9675 - val_loss: 0.0858 - val_acc: 0.9711\n",
      "Epoch 7/30\n",
      "7352/7352 [==============================] - 147s 20ms/step - loss: 0.0934 - acc: 0.9688 - val_loss: 0.1242 - val_acc: 0.9653\n",
      "Epoch 8/30\n",
      "7352/7352 [==============================] - 149s 20ms/step - loss: 0.0859 - acc: 0.9701 - val_loss: 0.0848 - val_acc: 0.9737\n",
      "Epoch 9/30\n",
      "7352/7352 [==============================] - 136s 18ms/step - loss: 0.0819 - acc: 0.9717 - val_loss: 0.1062 - val_acc: 0.9677\n",
      "Epoch 10/30\n",
      "7352/7352 [==============================] - 131s 18ms/step - loss: 0.0792 - acc: 0.9730 - val_loss: 0.1340 - val_acc: 0.9670\n",
      "Epoch 11/30\n",
      "7352/7352 [==============================] - 132s 18ms/step - loss: 0.0764 - acc: 0.9738 - val_loss: 0.1133 - val_acc: 0.9653\n",
      "Epoch 12/30\n",
      "7352/7352 [==============================] - 134s 18ms/step - loss: 0.0774 - acc: 0.9730 - val_loss: 0.1358 - val_acc: 0.9663\n",
      "Epoch 13/30\n",
      "7352/7352 [==============================] - 132s 18ms/step - loss: 0.0765 - acc: 0.9749 - val_loss: 0.1131 - val_acc: 0.9694\n",
      "Epoch 14/30\n",
      "7352/7352 [==============================] - 132s 18ms/step - loss: 0.0756 - acc: 0.9743 - val_loss: 0.1204 - val_acc: 0.9635\n",
      "Epoch 15/30\n",
      "7352/7352 [==============================] - 132s 18ms/step - loss: 0.0728 - acc: 0.9741 - val_loss: 0.1308 - val_acc: 0.9645\n",
      "Epoch 16/30\n",
      "7352/7352 [==============================] - 134s 18ms/step - loss: 0.0733 - acc: 0.9745 - val_loss: 0.1361 - val_acc: 0.9671\n",
      "Epoch 17/30\n",
      "7352/7352 [==============================] - 134s 18ms/step - loss: 0.0723 - acc: 0.9728 - val_loss: 0.1258 - val_acc: 0.9702\n",
      "Epoch 18/30\n",
      "7352/7352 [==============================] - 134s 18ms/step - loss: 0.0709 - acc: 0.9758 - val_loss: 0.1152 - val_acc: 0.9683\n",
      "Epoch 19/30\n",
      "7352/7352 [==============================] - 134s 18ms/step - loss: 0.0714 - acc: 0.9759 - val_loss: 0.1075 - val_acc: 0.9705\n",
      "Epoch 20/30\n",
      "7352/7352 [==============================] - 134s 18ms/step - loss: 0.0740 - acc: 0.9752 - val_loss: 0.1498 - val_acc: 0.9664\n",
      "Epoch 21/30\n",
      "7352/7352 [==============================] - 137s 19ms/step - loss: 0.0663 - acc: 0.9757 - val_loss: 0.1044 - val_acc: 0.9693\n",
      "Epoch 22/30\n",
      "7352/7352 [==============================] - 135s 18ms/step - loss: 0.0712 - acc: 0.9762 - val_loss: 0.0955 - val_acc: 0.9718\n",
      "Epoch 23/30\n",
      "7352/7352 [==============================] - 134s 18ms/step - loss: 0.0718 - acc: 0.9758 - val_loss: 0.1498 - val_acc: 0.9660\n",
      "Epoch 24/30\n",
      "7352/7352 [==============================] - 135s 18ms/step - loss: 0.0676 - acc: 0.9755 - val_loss: 0.1322 - val_acc: 0.9703\n",
      "Epoch 25/30\n",
      "7352/7352 [==============================] - 136s 19ms/step - loss: 0.0683 - acc: 0.9767 - val_loss: 0.1402 - val_acc: 0.9680\n",
      "Epoch 26/30\n",
      "7352/7352 [==============================] - 135s 18ms/step - loss: 0.0682 - acc: 0.9765 - val_loss: 0.1425 - val_acc: 0.9695\n",
      "Epoch 27/30\n",
      "7352/7352 [==============================] - 135s 18ms/step - loss: 0.0683 - acc: 0.9766 - val_loss: 0.1134 - val_acc: 0.9727\n",
      "Epoch 28/30\n",
      "7352/7352 [==============================] - 134s 18ms/step - loss: 0.0671 - acc: 0.9760 - val_loss: 0.1154 - val_acc: 0.9719\n",
      "Epoch 29/30\n",
      "7352/7352 [==============================] - 134s 18ms/step - loss: 0.0652 - acc: 0.9771 - val_loss: 0.1547 - val_acc: 0.9682\n",
      "Epoch 30/30\n",
      "7352/7352 [==============================] - 136s 18ms/step - loss: 0.0698 - acc: 0.9764 - val_loss: 0.1435 - val_acc: 0.9731\n"
     ]
    }
   ],
   "source": [
    " #Compiling the model\n",
    "model.compile(loss='binary_crossentropy',\n",
    "              optimizer='rmsprop',\n",
    "              metrics=['accuracy'])\n",
    "#checkpoint_3 = ModelCheckpoint(\"model_7.h5\",monitor=\"val_acc\",mode=\"max\",save_best_only = True,verbose=1)\n",
    "# Training the model\n",
    "history = model.fit(X_train,\n",
    "          Y_train,\n",
    "          batch_size=batch_size,\n",
    "          validation_data=(X_test, Y_test),\n",
    "          epochs=30)"
   ]
  },
  {
   "cell_type": "code",
   "execution_count": 0,
   "metadata": {
    "colab": {},
    "colab_type": "code",
    "id": "nxbJMzYRyBLl"
   },
   "outputs": [],
   "source": [
    "model_4 = openfromfile('model_final')\n",
    "history_4 = openfromfile('history_final')"
   ]
  },
  {
   "cell_type": "code",
   "execution_count": 0,
   "metadata": {
    "colab": {},
    "colab_type": "code",
    "id": "vjyO8oE7xCgF"
   },
   "outputs": [],
   "source": [
    "model_final = savetofile(model,'model_final')\n",
    "history_final = savetofile(history,'history_final')"
   ]
  },
  {
   "cell_type": "markdown",
   "metadata": {
    "colab_type": "text",
    "id": "KIX3JtM1wnKz"
   },
   "source": [
    "# Section 4: Plotting the error and accuracy"
   ]
  },
  {
   "cell_type": "code",
   "execution_count": 0,
   "metadata": {
    "colab": {
     "base_uri": "https://localhost:8080/",
     "height": 697
    },
    "colab_type": "code",
    "id": "Q_8SLbJxCBVj",
    "outputId": "6d832802-946d-4683-c23e-8d95e6b5ebe8"
   },
   "outputs": [
    {
     "name": "stdout",
     "output_type": "stream",
     "text": [
      "\n",
      "\n",
      "\n",
      "\n",
      "\n",
      "\n",
      "\n",
      "\n",
      "\n"
     ]
    },
    {
     "data": {
      "image/png": "[encoded data removed]",
      "text/plain": [
       "<Figure size 1440x1440 with 4 Axes>"
      ]
     },
     "metadata": {
      "tags": []
     },
     "output_type": "display_data"
    }
   ],
   "source": [
    "import pickle\n",
    "import matplotlib.pyplot as plt\n",
    "%matplotlib inline\n",
    "#plotting for all the models\n",
    "\n",
    "x = list(range(1,epochs+1))\n",
    "\n",
    "plt.figure(figsize  = (20,20))\n",
    "plt.subplot(4,1,1)\n",
    "plt.title('LSTM(120) + BatchNormalization + Dropout(0.3) + RMSprop + Sigmoid',size = 12)\n",
    "#plt.grid()\n",
    "plt.plot(x,openfromfile(\"history_1\").history['loss'],'b--',label = 'Training loss')\n",
    "plt.plot(x,openfromfile(\"history_1\").history['acc'],'b',label = 'Training Accuracy')\n",
    "plt.plot(x,openfromfile(\"history_1\").history['val_loss'],'g--',label = 'Test loss')\n",
    "plt.plot(x,openfromfile(\"history_1\").history['val_acc'],'g',label = 'Test Accuracy')\n",
    "plt.xlabel('epochs')\n",
    "plt.ylabel('categorical loss and accuracy scores')\n",
    "plt.legend(loc = 'best')\n",
    "print('\\n\\n')\n",
    "\n",
    "\n",
    "\n",
    "\n",
    "plt.subplot(4,1,2)\n",
    "plt.title('LSTM(80) + LSTM(35) + BatchNormalization + Dropout(0.3) + Dropout(0.5) + Adamoptimizer + Sigmoid',size = 12)\n",
    "#plt.grid()\n",
    "plt.plot(x,openfromfile(\"history_lstm2\").history['loss'],'b--',label = 'Training loss')\n",
    "plt.plot(x,openfromfile(\"history_lstm2\").history['acc'],'b',label = 'Training Accuracy')\n",
    "plt.plot(x,openfromfile(\"history_lstm2\").history['val_loss'],'g--',label = 'Test loss')\n",
    "plt.plot(x,openfromfile(\"history_lstm2\").history['val_acc'],'g',label = 'Test Accuracy')\n",
    "plt.xlabel('epochs')\n",
    "plt.ylabel('categorical loss and accuracy scores')\n",
    "plt.legend(loc = 'best')\n",
    "print('\\n\\n')\n",
    "\n",
    "\n",
    "\n",
    "#cnn\n",
    "plt.subplot(4,1,3)\n",
    "plt.title('Conv1D + Conv1D + MaxPooling + Dropout(0.5) + Adamoptimizer + Sigmoid',size = 12)\n",
    "#plt.grid()\n",
    "plt.plot(x,openfromfile(\"history_cnn\").history['loss'],'b--',label = 'Training loss')\n",
    "plt.plot(x,openfromfile(\"history_cnn\").history['acc'],'b',label = 'Training Accuracy')\n",
    "plt.plot(x,openfromfile(\"history_cnn\").history['val_loss'],'g--',label = 'Test loss')\n",
    "plt.plot(x,openfromfile(\"history_cnn\").history['val_acc'],'g',label = 'Test Accuracy')\n",
    "plt.xlabel('epochs')\n",
    "plt.ylabel('categorical loss and accuracy scores')\n",
    "plt.legend(loc = 'best')\n",
    "print('\\n\\n')\n",
    "#plt.show()\n",
    "\n",
    "#\n",
    "plt.subplot(4,1,4)\n",
    "plt.title('LSTM(50)+LSTM(50)+Dropout(0.7)+dropout(0.7) +Rmsprop',size = 12)\n",
    "plt.plot(x,openfromfile(\"history_final\").history['loss'],'b--',label = 'Training loss')\n",
    "plt.plot(x,openfromfile(\"history_final\").history['acc'],'b',label = 'Training Accuracy')\n",
    "plt.plot(x,openfromfile(\"history_final\").history['val_loss'],'g--',label = 'Test loss')\n",
    "plt.plot(x,openfromfile(\"history_final\").history['val_acc'],'g',label = 'Test Accuracy')\n",
    "plt.xlabel('epochs')\n",
    "plt.ylabel('loss and accuracy scores')\n",
    "plt.legend(loc = 'best')\n",
    "plt.show()\n"
   ]
  },
  {
   "cell_type": "markdown",
   "metadata": {
    "colab_type": "text",
    "id": "NzAz_7bcLuJ4"
   },
   "source": [
    "## Conclusion"
   ]
  },
  {
   "cell_type": "code",
   "execution_count": 0,
   "metadata": {
    "colab": {},
    "colab_type": "code",
    "id": "1NCsgK3L8s8s",
    "outputId": "73410995-d5a5-485f-ea30-ac02ae87e716"
   },
   "outputs": [
    {
     "name": "stdout",
     "output_type": "stream",
     "text": [
      "+---------------------------------------------------+-----------+---------------------------+---------------+\n",
      "|                    Architecture                   | optimizer |            loss           | test accuracy |\n",
      "+---------------------------------------------------+-----------+---------------------------+---------------+\n",
      "|    LSTM(32) + Dropout(0.3) + BatchNormaliztion    |  RMSprop  | categorical cross entropy |     0.905     |\n",
      "| LSTM(80) + Dropout(0.2) + LSTM(50) + Dropout(0.4) |    Adam   | categorical cross entropy |     0.9121    |\n",
      "|    Conv1D + Conv1D + MaxPooling + Dropout(0.5)    |    Adam   | categorical cross entropy |     0.9091    |\n",
      "|    LSTM(100)+LSTM(50)+Dropout(0.7)+Dropout(0.7)   |  Rmsprop  |    bianry cross entropy   |     0.9682    |\n",
      "+---------------------------------------------------+-----------+---------------------------+---------------+\n"
     ]
    }
   ],
   "source": [
    "# Conclusio\n",
    "from prettytable import PrettyTable\n",
    "table = PrettyTable()\n",
    "\n",
    "table.field_names = ['Architecture','optimizer','loss','test accuracy']\n",
    "table.add_row(['LSTM(32) + Dropout(0.3) + BatchNormaliztion','RMSprop','categorical cross entropy',0.905])\n",
    "table.add_row(['LSTM(80) + Dropout(0.2) + LSTM(50) + Dropout(0.4)','Adam','categorical cross entropy',0.9121])\n",
    "table.add_row(['Conv1D + Conv1D + MaxPooling + Dropout(0.5)',\"Adam\",'categorical cross entropy',0.9091])\n",
    "table.add_row(['LSTM(100)+LSTM(50)+Dropout(0.7)+Dropout(0.7)','Rmsprop','bianry cross entropy',0.9682])\n",
    "print(table)"
   ]
  },
  {
   "cell_type": "markdown",
   "metadata": {
    "colab_type": "text",
    "id": "Y4WC4lMJLuKA"
   },
   "source": [
    "This project is to build a model that predicts the human activities such as Walking, Walking_Upstairs, Walking_Downstairs, Sitting, Standing or Laying.\n",
    "\n",
    "This dataset is collected from 30 persons(referred as subjects in this dataset), performing different activities with a smartphone to their waists. The data is recorded with the help of sensors (accelerometer and Gyroscope) in that smartphone. This experiment was video recorded to label the data manually.\n",
    "\n",
    "\n",
    "\n",
    "The startegy we employed for classification with help of deep learning models is we implemented 4 different models,3 with LSTM units and 1 with Conv1d.We tried hyper parameter tuing with hyperas also .\n",
    "\n",
    "Finally we were able to get best accuracy of 0.96"
   ]
  },
  {
   "cell_type": "code",
   "execution_count": 0,
   "metadata": {
    "colab": {},
    "colab_type": "code",
    "id": "X8pzMYrjO9ec"
   },
   "outputs": [],
   "source": [
    "#3 Classification of static and dynamic activities "
   ]
  },
  {
   "cell_type": "markdown",
   "metadata": {
    "colab_type": "text",
    "id": "DPIsc-H-PFXy"
   },
   "source": [
    "# Classifiation of static and dynamic activities "
   ]
  },
  {
   "cell_type": "markdown",
   "metadata": {
    "colab_type": "text",
    "id": "NTHwCxdqP7a1"
   },
   "source": [
    "so we will be classifiying the activities in two parts,first is Dynamic activities and second are static activities using the divide and conqueor based approach "
   ]
  },
  {
   "cell_type": "code",
   "execution_count": 0,
   "metadata": {
    "colab": {},
    "colab_type": "code",
    "id": "xZTrmvG5QK_q"
   },
   "outputs": [],
   "source": [
    "## Classification dynamic activities"
   ]
  },
  {
   "cell_type": "code",
   "execution_count": 0,
   "metadata": {
    "colab": {
     "base_uri": "https://localhost:8080/",
     "height": 944
    },
    "colab_type": "code",
    "id": "BmAOrZyibAmq",
    "outputId": "9e0a1036-4417-4a86-e545-a7d41ce601a5"
   },
   "outputs": [
    {
     "name": "stdout",
     "output_type": "stream",
     "text": [
      "Collecting hyperas\n",
      "  Downloading https://files.pythonhosted.org/packages/04/34/87ad6ffb42df9c1fa9c4c906f65813d42ad70d68c66af4ffff048c228cd4/hyperas-0.4.1-py3-none-any.whl\n",
      "Requirement already satisfied: jupyter in /usr/local/lib/python3.6/dist-packages (from hyperas) (1.0.0)\n",
      "Requirement already satisfied: keras in /usr/local/lib/python3.6/dist-packages (from hyperas) (2.2.5)\n",
      "Requirement already satisfied: nbconvert in /usr/local/lib/python3.6/dist-packages (from hyperas) (5.6.1)\n",
      "Requirement already satisfied: entrypoints in /usr/local/lib/python3.6/dist-packages (from hyperas) (0.3)\n",
      "Requirement already satisfied: nbformat in /usr/local/lib/python3.6/dist-packages (from hyperas) (5.0.3)\n",
      "Requirement already satisfied: hyperopt in /usr/local/lib/python3.6/dist-packages (from hyperas) (0.1.2)\n",
      "Requirement already satisfied: jupyter-console in /usr/local/lib/python3.6/dist-packages (from jupyter->hyperas) (5.2.0)\n",
      "Requirement already satisfied: ipykernel in /usr/local/lib/python3.6/dist-packages (from jupyter->hyperas) (4.6.1)\n",
      "Requirement already satisfied: notebook in /usr/local/lib/python3.6/dist-packages (from jupyter->hyperas) (5.2.2)\n",
      "Requirement already satisfied: qtconsole in /usr/local/lib/python3.6/dist-packages (from jupyter->hyperas) (4.6.0)\n",
      "Requirement already satisfied: ipywidgets in /usr/local/lib/python3.6/dist-packages (from jupyter->hyperas) (7.5.1)\n",
      "Requirement already satisfied: keras-preprocessing>=1.1.0 in /usr/local/lib/python3.6/dist-packages (from keras->hyperas) (1.1.0)\n",
      "Requirement already satisfied: pyyaml in /usr/local/lib/python3.6/dist-packages (from keras->hyperas) (3.13)\n",
      "Requirement already satisfied: h5py in /usr/local/lib/python3.6/dist-packages (from keras->hyperas) (2.8.0)\n",
      "Requirement already satisfied: keras-applications>=1.0.8 in /usr/local/lib/python3.6/dist-packages (from keras->hyperas) (1.0.8)\n",
      "Requirement already satisfied: six>=1.9.0 in /usr/local/lib/python3.6/dist-packages (from keras->hyperas) (1.12.0)\n",
      "Requirement already satisfied: scipy>=0.14 in /usr/local/lib/python3.6/dist-packages (from keras->hyperas) (1.4.1)\n",
      "Requirement already satisfied: numpy>=1.9.1 in /usr/local/lib/python3.6/dist-packages (from keras->hyperas) (1.17.5)\n",
      "Requirement already satisfied: defusedxml in /usr/local/lib/python3.6/dist-packages (from nbconvert->hyperas) (0.6.0)\n",
      "Requirement already satisfied: jinja2>=2.4 in /usr/local/lib/python3.6/dist-packages (from nbconvert->hyperas) (2.10.3)\n",
      "Requirement already satisfied: traitlets>=4.2 in /usr/local/lib/python3.6/dist-packages (from nbconvert->hyperas) (4.3.3)\n",
      "Requirement already satisfied: mistune<2,>=0.8.1 in /usr/local/lib/python3.6/dist-packages (from nbconvert->hyperas) (0.8.4)\n",
      "Requirement already satisfied: testpath in /usr/local/lib/python3.6/dist-packages (from nbconvert->hyperas) (0.4.4)\n",
      "Requirement already satisfied: jupyter-core in /usr/local/lib/python3.6/dist-packages (from nbconvert->hyperas) (4.6.1)\n",
      "Requirement already satisfied: pandocfilters>=1.4.1 in /usr/local/lib/python3.6/dist-packages (from nbconvert->hyperas) (1.4.2)\n",
      "Requirement already satisfied: pygments in /usr/local/lib/python3.6/dist-packages (from nbconvert->hyperas) (2.1.3)\n",
      "Requirement already satisfied: bleach in /usr/local/lib/python3.6/dist-packages (from nbconvert->hyperas) (3.1.0)\n",
      "Requirement already satisfied: ipython-genutils in /usr/local/lib/python3.6/dist-packages (from nbformat->hyperas) (0.2.0)\n",
      "Requirement already satisfied: jsonschema!=2.5.0,>=2.4 in /usr/local/lib/python3.6/dist-packages (from nbformat->hyperas) (2.6.0)\n",
      "Requirement already satisfied: tqdm in /usr/local/lib/python3.6/dist-packages (from hyperopt->hyperas) (4.28.1)\n",
      "Requirement already satisfied: future in /usr/local/lib/python3.6/dist-packages (from hyperopt->hyperas) (0.16.0)\n",
      "Requirement already satisfied: pymongo in /usr/local/lib/python3.6/dist-packages (from hyperopt->hyperas) (3.10.0)\n",
      "Requirement already satisfied: networkx in /usr/local/lib/python3.6/dist-packages (from hyperopt->hyperas) (2.4)\n",
      "Requirement already satisfied: jupyter-client in /usr/local/lib/python3.6/dist-packages (from jupyter-console->jupyter->hyperas) (5.3.4)\n",
      "Requirement already satisfied: ipython in /usr/local/lib/python3.6/dist-packages (from jupyter-console->jupyter->hyperas) (5.5.0)\n",
      "Requirement already satisfied: prompt-toolkit<2.0.0,>=1.0.0 in /usr/local/lib/python3.6/dist-packages (from jupyter-console->jupyter->hyperas) (1.0.18)\n",
      "Requirement already satisfied: tornado>=4.0 in /usr/local/lib/python3.6/dist-packages (from ipykernel->jupyter->hyperas) (4.5.3)\n",
      "Requirement already satisfied: terminado>=0.3.3; sys_platform != \"win32\" in /usr/local/lib/python3.6/dist-packages (from notebook->jupyter->hyperas) (0.8.3)\n",
      "Requirement already satisfied: widgetsnbextension~=3.5.0 in /usr/local/lib/python3.6/dist-packages (from ipywidgets->jupyter->hyperas) (3.5.1)\n",
      "Requirement already satisfied: MarkupSafe>=0.23 in /usr/local/lib/python3.6/dist-packages (from jinja2>=2.4->nbconvert->hyperas) (1.1.1)\n",
      "Requirement already satisfied: decorator in /usr/local/lib/python3.6/dist-packages (from traitlets>=4.2->nbconvert->hyperas) (4.4.1)\n",
      "Requirement already satisfied: webencodings in /usr/local/lib/python3.6/dist-packages (from bleach->nbconvert->hyperas) (0.5.1)\n",
      "Requirement already satisfied: pyzmq>=13 in /usr/local/lib/python3.6/dist-packages (from jupyter-client->jupyter-console->jupyter->hyperas) (17.0.0)\n",
      "Requirement already satisfied: python-dateutil>=2.1 in /usr/local/lib/python3.6/dist-packages (from jupyter-client->jupyter-console->jupyter->hyperas) (2.6.1)\n",
      "Requirement already satisfied: pickleshare in /usr/local/lib/python3.6/dist-packages (from ipython->jupyter-console->jupyter->hyperas) (0.7.5)\n",
      "Requirement already satisfied: simplegeneric>0.8 in /usr/local/lib/python3.6/dist-packages (from ipython->jupyter-console->jupyter->hyperas) (0.8.1)\n",
      "Requirement already satisfied: setuptools>=18.5 in /usr/local/lib/python3.6/dist-packages (from ipython->jupyter-console->jupyter->hyperas) (42.0.2)\n",
      "Requirement already satisfied: pexpect; sys_platform != \"win32\" in /usr/local/lib/python3.6/dist-packages (from ipython->jupyter-console->jupyter->hyperas) (4.7.0)\n",
      "Requirement already satisfied: wcwidth in /usr/local/lib/python3.6/dist-packages (from prompt-toolkit<2.0.0,>=1.0.0->jupyter-console->jupyter->hyperas) (0.1.8)\n",
      "Requirement already satisfied: ptyprocess; os_name != \"nt\" in /usr/local/lib/python3.6/dist-packages (from terminado>=0.3.3; sys_platform != \"win32\"->notebook->jupyter->hyperas) (0.6.0)\n",
      "Installing collected packages: hyperas\n",
      "Successfully installed hyperas-0.4.1\n"
     ]
    }
   ],
   "source": [
    "! pip install hyperas"
   ]
  },
  {
   "cell_type": "code",
   "execution_count": 0,
   "metadata": {
    "colab": {},
    "colab_type": "code",
    "id": "gYn9qYTna4xD"
   },
   "outputs": [],
   "source": [
    "from keras.models import Sequential\n",
    "from keras.layers import LSTM\n",
    "from keras.layers.core import Dense, Dropout\n",
    "from hyperopt import Trials, STATUS_OK, tpe\n",
    "from hyperas import optim\n",
    "from hyperas.distributions import choice, uniform\n",
    "warnings.simplefilter(\"ignore\")"
   ]
  },
  {
   "cell_type": "code",
   "execution_count": 0,
   "metadata": {
    "colab": {},
    "colab_type": "code",
    "id": "hplLZ6TTeclD"
   },
   "outputs": [],
   "source": [
    "#saving data for loading it later in hyperas for hyper-parameter tuning\n",
    "savetofile(X_train,'train')\n",
    "savetofile(X_test,'test')\n",
    "savetofile(Y_train,'train_y')\n",
    "savetofile(Y_test,'test_y')"
   ]
  },
  {
   "cell_type": "code",
   "execution_count": 0,
   "metadata": {
    "colab": {},
    "colab_type": "code",
    "id": "5P_v2B8BfN59"
   },
   "outputs": [],
   "source": [
    "def data():\n",
    "    x_train = pickle.load(open('train'+\".p\",'rb'))\n",
    "    y_train = pickle.load(open('train_y'+\".p\",'rb'))\n",
    "    x_test =  pickle.load(open(\"test\"+\".p\",'rb'))\n",
    "    y_test =  pickle.load(open(\"test_y\"+\".p\",'rb'))\n",
    "    return x_train, y_train, x_test, y_test"
   ]
  },
  {
   "cell_type": "code",
   "execution_count": 0,
   "metadata": {
    "colab": {},
    "colab_type": "code",
    "id": "1Wti2H0cbLCs"
   },
   "outputs": [],
   "source": [
    "#we tried the hyperparameter tuning but it is not working in this case as some error is occuring with notebook path multiple times\n",
    "#this is the code I tried to implement gethering from multiple sources\n",
    "#following source helped me to tune the parameters - https://towardsdatascience.com/keras-hyperparameter-tuning-in-google-colab-using-hyperas-624fa4bbf673\n",
    "\"\"\"\n",
    "def create_model(x_train, y_train, x_test, y_test):\n",
    "    \n",
    "    epochs = 8\n",
    "    batch_size = 32\n",
    "    timesteps = x_train.shape[1]\n",
    "    input_dim = len(x_train[0][0])\n",
    "    n_classes = 6\n",
    "    \n",
    "    model = Sequential()\n",
    "    \n",
    "    model.add(LSTM(64, return_sequences = True, input_shape = (timesteps, input_dim)))\n",
    "    model.add(Dropout({{uniform(0, 1)}}))\n",
    "    \n",
    "    model.add(LSTM({{choice([32, 16])}}))\n",
    "    model.add(Dropout({{uniform(0, 1)}}))\n",
    "    \n",
    "    model.add(Dense(n_classes, activation='sigmoid'))\n",
    "    \n",
    "    print(model.summary())\n",
    "    \n",
    "    model.compile(loss='categorical_crossentropy', metrics=['accuracy'], optimizer='rmsprop')\n",
    "    \n",
    "    result = model.fit(x_train, y_train, batch_size = batch_size, epochs=epochs, verbose=2, validation_split=0.01)\n",
    "    \n",
    "    validation_acc = np.amax(result.history['val_acc']) \n",
    "    \n",
    "    print('Best validation acc of epoch:', validation_acc)\n",
    "    \n",
    "    return {'loss': -validation_acc, 'status': STATUS_OK, 'model': model}\n",
    "    \"\"\""
   ]
  },
  {
   "cell_type": "code",
   "execution_count": 0,
   "metadata": {
    "colab": {
     "base_uri": "https://localhost:8080/",
     "height": 1000
    },
    "colab_type": "code",
    "id": "Ok_cEw_WbRH-",
    "outputId": "745f5f01-250f-423d-fb3e-92b8f79ddafe"
   },
   "outputs": [
    {
     "name": "stdout",
     "output_type": "stream",
     "text": [
      ">>> Imports:\n",
      "#coding=utf-8\n",
      "\n",
      "try:\n",
      "    import pandas as pd\n",
      "except:\n",
      "    pass\n",
      "\n",
      "try:\n",
      "    import numpy as np\n",
      "except:\n",
      "    pass\n",
      "\n",
      "try:\n",
      "    import matplotlib.pyplot as plt\n",
      "except:\n",
      "    pass\n",
      "\n",
      "try:\n",
      "    from google.colab import drive\n",
      "except:\n",
      "    pass\n",
      "\n",
      "try:\n",
      "    import tensorflow as tf\n",
      "except:\n",
      "    pass\n",
      "\n",
      "try:\n",
      "    from keras import backend as K\n",
      "except:\n",
      "    pass\n",
      "\n",
      "try:\n",
      "    from keras.models import Sequential\n",
      "except:\n",
      "    pass\n",
      "\n",
      "try:\n",
      "    from keras.layers import LSTM\n",
      "except:\n",
      "    pass\n",
      "\n",
      "try:\n",
      "    from keras.layers.core import Dense, Dropout\n",
      "except:\n",
      "    pass\n",
      "\n",
      "try:\n",
      "    from keras.layers import BatchNormalization\n",
      "except:\n",
      "    pass\n",
      "\n",
      "try:\n",
      "    import warnings\n",
      "except:\n",
      "    pass\n",
      "\n",
      "try:\n",
      "    import pickle\n",
      "except:\n",
      "    pass\n",
      "\n",
      "try:\n",
      "    import itertools\n",
      "except:\n",
      "    pass\n",
      "\n",
      "try:\n",
      "    import numpy as np\n",
      "except:\n",
      "    pass\n",
      "\n",
      "try:\n",
      "    import matplotlib.pyplot as plt\n",
      "except:\n",
      "    pass\n",
      "\n",
      "try:\n",
      "    from sklearn.metrics import confusion_matrix\n",
      "except:\n",
      "    pass\n",
      "\n",
      "try:\n",
      "    from sklearn.metrics import classification_report, accuracy_score\n",
      "except:\n",
      "    pass\n",
      "\n",
      "try:\n",
      "    from datetime import datetime\n",
      "except:\n",
      "    pass\n",
      "\n",
      "try:\n",
      "    from keras.layers import BatchNormalization\n",
      "except:\n",
      "    pass\n",
      "\n",
      "try:\n",
      "    from keras.layers import Flatten\n",
      "except:\n",
      "    pass\n",
      "\n",
      "try:\n",
      "    from keras.layers.convolutional import Conv1D\n",
      "except:\n",
      "    pass\n",
      "\n",
      "try:\n",
      "    from keras.layers.convolutional import MaxPooling1D\n",
      "except:\n",
      "    pass\n",
      "\n",
      "try:\n",
      "    from keras.initializers import he_normal\n",
      "except:\n",
      "    pass\n",
      "\n",
      "try:\n",
      "    from keras.layers import BatchNormalization\n",
      "except:\n",
      "    pass\n",
      "\n",
      "try:\n",
      "    import warnings\n",
      "except:\n",
      "    pass\n",
      "\n",
      "try:\n",
      "    from keras.regularizers import L1L2\n",
      "except:\n",
      "    pass\n",
      "\n",
      "try:\n",
      "    import pickle\n",
      "except:\n",
      "    pass\n",
      "\n",
      "try:\n",
      "    import matplotlib.pyplot as plt\n",
      "except:\n",
      "    pass\n",
      "\n",
      "try:\n",
      "    from prettytable import PrettyTable\n",
      "except:\n",
      "    pass\n",
      "\n",
      "try:\n",
      "    from keras.models import Sequential\n",
      "except:\n",
      "    pass\n",
      "\n",
      "try:\n",
      "    from keras.layers import LSTM\n",
      "except:\n",
      "    pass\n",
      "\n",
      "try:\n",
      "    from keras.layers.core import Dense, Dropout\n",
      "except:\n",
      "    pass\n",
      "\n",
      "try:\n",
      "    from hyperopt import Trials, STATUS_OK, tpe\n",
      "except:\n",
      "    pass\n",
      "\n",
      "try:\n",
      "    from hyperas import optim\n",
      "except:\n",
      "    pass\n",
      "\n",
      "try:\n",
      "    from hyperas.distributions import choice, uniform\n",
      "except:\n",
      "    pass\n",
      "\n",
      ">>> Hyperas search space:\n",
      "\n",
      "def get_space():\n",
      "    return {\n",
      "        'Dropout': hp.uniform('Dropout', 0, 1),\n",
      "        'LSTM': hp.choice('LSTM', [32, 16]),\n",
      "        'Dropout_1': hp.uniform('Dropout_1', 0, 1),\n",
      "    }\n",
      "\n",
      ">>> Data\n",
      "  1: \n",
      "  2: x_train = pickle.load(open('train'+\".p\",'rb'))\n",
      "  3: y_train = pickle.load(open('train_y'+\".p\",'rb'))\n",
      "  4: x_test =  pickle.load(open(\"test\"+\".p\",'rb'))\n",
      "  5: y_test =  pickle.load(open(\"test_y\"+\".p\",'rb'))\n",
      "  6: \n",
      "  7: \n",
      "  8: \n",
      ">>> Resulting replaced keras model:\n",
      "\n",
      "  1: def keras_fmin_fnct(space):\n",
      "  2: \n",
      "  3:     \n",
      "  4:     epochs = 8\n",
      "  5:     batch_size = 32\n",
      "  6:     timesteps = x_train.shape[1]\n",
      "  7:     input_dim = len(x_train[0][0])\n",
      "  8:     n_classes = 6\n",
      "  9:     \n",
      " 10:     model = Sequential()\n",
      " 11:     \n",
      " 12:     model.add(LSTM(64, return_sequences = True, input_shape = (timesteps, input_dim)))\n",
      " 13:     model.add(Dropout(space['Dropout']))\n",
      " 14:     \n",
      " 15:     model.add(LSTM(space['LSTM']))\n",
      " 16:     model.add(Dropout(space['Dropout_1']))\n",
      " 17:     \n",
      " 18:     model.add(Dense(n_classes, activation='sigmoid'))\n",
      " 19:     \n",
      " 20:     print(model.summary())\n",
      " 21:     \n",
      " 22:     model.compile(loss='categorical_crossentropy', metrics=['accuracy'], optimizer='rmsprop')\n",
      " 23:     \n",
      " 24:     result = model.fit(x_train, y_train, batch_size = batch_size, epochs=epochs, verbose=2, validation_split=0.01)\n",
      " 25:     \n",
      " 26:     validation_acc = np.amax(result.history['val_acc']) \n",
      " 27:     \n",
      " 28:     print('Best validation acc of epoch:', validation_acc)\n",
      " 29:     \n",
      " 30:     return {'loss': -validation_acc, 'status': STATUS_OK, 'model': model}\n",
      " 31: \n",
      "  0%|          | 0/4 [00:00<?, ?it/s, best loss: ?]WARNING:tensorflow:Large dropout rate: 0.692539 (>0.5). In TensorFlow 2.x, dropout() uses dropout rate instead of keep_prob. Please ensure that this is intended.\n",
      "Model: \"sequential_2\"\n",
      "_________________________________________________________________\n",
      "Layer (type)                 Output Shape              Param #   \n",
      "=================================================================\n",
      "lstm_3 (LSTM)                (None, 128, 64)           18944     \n",
      "_________________________________________________________________\n",
      "dropout_3 (Dropout)          (None, 128, 64)           0         \n",
      "_________________________________________________________________\n",
      "lstm_4 (LSTM)                (None, 32)                12416     \n",
      "_________________________________________________________________\n",
      "dropout_4 (Dropout)          (None, 32)                0         \n",
      "_________________________________________________________________\n",
      "dense_2 (Dense)              (None, 6)                 198       \n",
      "=================================================================\n",
      "Total params: 31,558\n",
      "Trainable params: 31,558\n",
      "Non-trainable params: 0\n",
      "_________________________________________________________________\n",
      "None\n",
      "Train on 7278 samples, validate on 74 samples\n",
      "Epoch 1/8\n",
      " - 88s - loss: 1.2375 - acc: 0.4775 - val_loss: 1.2859 - val_acc: 0.2568\n",
      "\n",
      "Epoch 2/8\n",
      " - 91s - loss: 0.8509 - acc: 0.6210 - val_loss: 1.1291 - val_acc: 0.2973\n",
      "\n",
      "Epoch 3/8\n",
      "  0%|          | 0/4 [03:00<?, ?it/s, best loss: ?]\n"
     ]
    },
    {
     "ename": "KeyboardInterrupt",
     "evalue": "ignored",
     "output_type": "error",
     "traceback": [
      "\u001b[0;31m---------------------------------------------------------------------------\u001b[0m",
      "\u001b[0;31mKeyboardInterrupt\u001b[0m                         Traceback (most recent call last)",
      "\u001b[0;32m<ipython-input-35-5085fec4a4d6>\u001b[0m in \u001b[0;36m<module>\u001b[0;34m()\u001b[0m\n\u001b[1;32m      1\u001b[0m \u001b[0;32mimport\u001b[0m \u001b[0mwarnings\u001b[0m\u001b[0;34m\u001b[0m\u001b[0;34m\u001b[0m\u001b[0m\n\u001b[1;32m      2\u001b[0m \u001b[0mwarnings\u001b[0m\u001b[0;34m.\u001b[0m\u001b[0mfilterwarnings\u001b[0m\u001b[0;34m(\u001b[0m\u001b[0;34m'ignore'\u001b[0m\u001b[0;34m)\u001b[0m\u001b[0;34m\u001b[0m\u001b[0;34m\u001b[0m\u001b[0m\n\u001b[0;32m----> 3\u001b[0;31m \u001b[0mbest_run\u001b[0m\u001b[0;34m,\u001b[0m \u001b[0mbest_model\u001b[0m \u001b[0;34m=\u001b[0m \u001b[0moptim\u001b[0m\u001b[0;34m.\u001b[0m\u001b[0mminimize\u001b[0m\u001b[0;34m(\u001b[0m\u001b[0mmodel\u001b[0m\u001b[0;34m=\u001b[0m\u001b[0mcreate_model\u001b[0m\u001b[0;34m,\u001b[0m \u001b[0mdata\u001b[0m\u001b[0;34m=\u001b[0m\u001b[0mdata\u001b[0m\u001b[0;34m,\u001b[0m \u001b[0malgo\u001b[0m\u001b[0;34m=\u001b[0m\u001b[0mtpe\u001b[0m\u001b[0;34m.\u001b[0m\u001b[0msuggest\u001b[0m\u001b[0;34m,\u001b[0m \u001b[0mmax_evals\u001b[0m\u001b[0;34m=\u001b[0m\u001b[0;36m4\u001b[0m\u001b[0;34m,\u001b[0m \u001b[0mtrials\u001b[0m\u001b[0;34m=\u001b[0m\u001b[0mTrials\u001b[0m\u001b[0;34m(\u001b[0m\u001b[0;34m)\u001b[0m\u001b[0;34m,\u001b[0m \u001b[0mnotebook_name\u001b[0m \u001b[0;34m=\u001b[0m \u001b[0;34m\"drive/My Drive/Colab Notebooks/HAR_LSTM\"\u001b[0m\u001b[0;34m)\u001b[0m\u001b[0;34m\u001b[0m\u001b[0;34m\u001b[0m\u001b[0m\n\u001b[0m\u001b[1;32m      4\u001b[0m \u001b[0mx_train\u001b[0m\u001b[0;34m,\u001b[0m \u001b[0my_train\u001b[0m\u001b[0;34m,\u001b[0m \u001b[0mx_test\u001b[0m\u001b[0;34m,\u001b[0m \u001b[0my_test\u001b[0m \u001b[0;34m=\u001b[0m \u001b[0mdata\u001b[0m\u001b[0;34m(\u001b[0m\u001b[0;34m)\u001b[0m\u001b[0;34m\u001b[0m\u001b[0;34m\u001b[0m\u001b[0m\n\u001b[1;32m      5\u001b[0m \u001b[0;34m\u001b[0m\u001b[0m\n",
      "\u001b[0;32m/usr/local/lib/python3.6/dist-packages/hyperas/optim.py\u001b[0m in \u001b[0;36mminimize\u001b[0;34m(model, data, algo, max_evals, trials, functions, rseed, notebook_name, verbose, eval_space, return_space, keep_temp)\u001b[0m\n\u001b[1;32m     67\u001b[0m                                      \u001b[0mnotebook_name\u001b[0m\u001b[0;34m=\u001b[0m\u001b[0mnotebook_name\u001b[0m\u001b[0;34m,\u001b[0m\u001b[0;34m\u001b[0m\u001b[0;34m\u001b[0m\u001b[0m\n\u001b[1;32m     68\u001b[0m                                      \u001b[0mverbose\u001b[0m\u001b[0;34m=\u001b[0m\u001b[0mverbose\u001b[0m\u001b[0;34m,\u001b[0m\u001b[0;34m\u001b[0m\u001b[0;34m\u001b[0m\u001b[0m\n\u001b[0;32m---> 69\u001b[0;31m                                      keep_temp=keep_temp)\n\u001b[0m\u001b[1;32m     70\u001b[0m \u001b[0;34m\u001b[0m\u001b[0m\n\u001b[1;32m     71\u001b[0m     \u001b[0mbest_model\u001b[0m \u001b[0;34m=\u001b[0m \u001b[0;32mNone\u001b[0m\u001b[0;34m\u001b[0m\u001b[0;34m\u001b[0m\u001b[0m\n",
      "\u001b[0;32m/usr/local/lib/python3.6/dist-packages/hyperas/optim.py\u001b[0m in \u001b[0;36mbase_minimizer\u001b[0;34m(model, data, functions, algo, max_evals, trials, rseed, full_model_string, notebook_name, verbose, stack, keep_temp)\u001b[0m\n\u001b[1;32m    137\u001b[0m              \u001b[0mtrials\u001b[0m\u001b[0;34m=\u001b[0m\u001b[0mtrials\u001b[0m\u001b[0;34m,\u001b[0m\u001b[0;34m\u001b[0m\u001b[0;34m\u001b[0m\u001b[0m\n\u001b[1;32m    138\u001b[0m              \u001b[0mrstate\u001b[0m\u001b[0;34m=\u001b[0m\u001b[0mnp\u001b[0m\u001b[0;34m.\u001b[0m\u001b[0mrandom\u001b[0m\u001b[0;34m.\u001b[0m\u001b[0mRandomState\u001b[0m\u001b[0;34m(\u001b[0m\u001b[0mrseed\u001b[0m\u001b[0;34m)\u001b[0m\u001b[0;34m,\u001b[0m\u001b[0;34m\u001b[0m\u001b[0;34m\u001b[0m\u001b[0m\n\u001b[0;32m--> 139\u001b[0;31m              return_argmin=True),\n\u001b[0m\u001b[1;32m    140\u001b[0m         \u001b[0mget_space\u001b[0m\u001b[0;34m(\u001b[0m\u001b[0;34m)\u001b[0m\u001b[0;34m\u001b[0m\u001b[0;34m\u001b[0m\u001b[0m\n\u001b[1;32m    141\u001b[0m     )\n",
      "\u001b[0;32m/usr/local/lib/python3.6/dist-packages/hyperopt/fmin.py\u001b[0m in \u001b[0;36mfmin\u001b[0;34m(fn, space, algo, max_evals, trials, rstate, allow_trials_fmin, pass_expr_memo_ctrl, catch_eval_exceptions, verbose, return_argmin, points_to_evaluate, max_queue_len, show_progressbar)\u001b[0m\n\u001b[1;32m    386\u001b[0m             \u001b[0mcatch_eval_exceptions\u001b[0m\u001b[0;34m=\u001b[0m\u001b[0mcatch_eval_exceptions\u001b[0m\u001b[0;34m,\u001b[0m\u001b[0;34m\u001b[0m\u001b[0;34m\u001b[0m\u001b[0m\n\u001b[1;32m    387\u001b[0m             \u001b[0mreturn_argmin\u001b[0m\u001b[0;34m=\u001b[0m\u001b[0mreturn_argmin\u001b[0m\u001b[0;34m,\u001b[0m\u001b[0;34m\u001b[0m\u001b[0;34m\u001b[0m\u001b[0m\n\u001b[0;32m--> 388\u001b[0;31m             \u001b[0mshow_progressbar\u001b[0m\u001b[0;34m=\u001b[0m\u001b[0mshow_progressbar\u001b[0m\u001b[0;34m,\u001b[0m\u001b[0;34m\u001b[0m\u001b[0;34m\u001b[0m\u001b[0m\n\u001b[0m\u001b[1;32m    389\u001b[0m         )\n\u001b[1;32m    390\u001b[0m \u001b[0;34m\u001b[0m\u001b[0m\n",
      "\u001b[0;32m/usr/local/lib/python3.6/dist-packages/hyperopt/base.py\u001b[0m in \u001b[0;36mfmin\u001b[0;34m(self, fn, space, algo, max_evals, rstate, verbose, pass_expr_memo_ctrl, catch_eval_exceptions, return_argmin, show_progressbar)\u001b[0m\n\u001b[1;32m    637\u001b[0m             \u001b[0mcatch_eval_exceptions\u001b[0m\u001b[0;34m=\u001b[0m\u001b[0mcatch_eval_exceptions\u001b[0m\u001b[0;34m,\u001b[0m\u001b[0;34m\u001b[0m\u001b[0;34m\u001b[0m\u001b[0m\n\u001b[1;32m    638\u001b[0m             \u001b[0mreturn_argmin\u001b[0m\u001b[0;34m=\u001b[0m\u001b[0mreturn_argmin\u001b[0m\u001b[0;34m,\u001b[0m\u001b[0;34m\u001b[0m\u001b[0;34m\u001b[0m\u001b[0m\n\u001b[0;32m--> 639\u001b[0;31m             show_progressbar=show_progressbar)\n\u001b[0m\u001b[1;32m    640\u001b[0m \u001b[0;34m\u001b[0m\u001b[0m\n\u001b[1;32m    641\u001b[0m \u001b[0;34m\u001b[0m\u001b[0m\n",
      "\u001b[0;32m/usr/local/lib/python3.6/dist-packages/hyperopt/fmin.py\u001b[0m in \u001b[0;36mfmin\u001b[0;34m(fn, space, algo, max_evals, trials, rstate, allow_trials_fmin, pass_expr_memo_ctrl, catch_eval_exceptions, verbose, return_argmin, points_to_evaluate, max_queue_len, show_progressbar)\u001b[0m\n\u001b[1;32m    405\u001b[0m                     show_progressbar=show_progressbar)\n\u001b[1;32m    406\u001b[0m     \u001b[0mrval\u001b[0m\u001b[0;34m.\u001b[0m\u001b[0mcatch_eval_exceptions\u001b[0m \u001b[0;34m=\u001b[0m \u001b[0mcatch_eval_exceptions\u001b[0m\u001b[0;34m\u001b[0m\u001b[0;34m\u001b[0m\u001b[0m\n\u001b[0;32m--> 407\u001b[0;31m     \u001b[0mrval\u001b[0m\u001b[0;34m.\u001b[0m\u001b[0mexhaust\u001b[0m\u001b[0;34m(\u001b[0m\u001b[0;34m)\u001b[0m\u001b[0;34m\u001b[0m\u001b[0;34m\u001b[0m\u001b[0m\n\u001b[0m\u001b[1;32m    408\u001b[0m     \u001b[0;32mif\u001b[0m \u001b[0mreturn_argmin\u001b[0m\u001b[0;34m:\u001b[0m\u001b[0;34m\u001b[0m\u001b[0;34m\u001b[0m\u001b[0m\n\u001b[1;32m    409\u001b[0m         \u001b[0;32mreturn\u001b[0m \u001b[0mtrials\u001b[0m\u001b[0;34m.\u001b[0m\u001b[0margmin\u001b[0m\u001b[0;34m\u001b[0m\u001b[0;34m\u001b[0m\u001b[0m\n",
      "\u001b[0;32m/usr/local/lib/python3.6/dist-packages/hyperopt/fmin.py\u001b[0m in \u001b[0;36mexhaust\u001b[0;34m(self)\u001b[0m\n\u001b[1;32m    260\u001b[0m     \u001b[0;32mdef\u001b[0m \u001b[0mexhaust\u001b[0m\u001b[0;34m(\u001b[0m\u001b[0mself\u001b[0m\u001b[0;34m)\u001b[0m\u001b[0;34m:\u001b[0m\u001b[0;34m\u001b[0m\u001b[0;34m\u001b[0m\u001b[0m\n\u001b[1;32m    261\u001b[0m         \u001b[0mn_done\u001b[0m \u001b[0;34m=\u001b[0m \u001b[0mlen\u001b[0m\u001b[0;34m(\u001b[0m\u001b[0mself\u001b[0m\u001b[0;34m.\u001b[0m\u001b[0mtrials\u001b[0m\u001b[0;34m)\u001b[0m\u001b[0;34m\u001b[0m\u001b[0;34m\u001b[0m\u001b[0m\n\u001b[0;32m--> 262\u001b[0;31m         \u001b[0mself\u001b[0m\u001b[0;34m.\u001b[0m\u001b[0mrun\u001b[0m\u001b[0;34m(\u001b[0m\u001b[0mself\u001b[0m\u001b[0;34m.\u001b[0m\u001b[0mmax_evals\u001b[0m \u001b[0;34m-\u001b[0m \u001b[0mn_done\u001b[0m\u001b[0;34m,\u001b[0m \u001b[0mblock_until_done\u001b[0m\u001b[0;34m=\u001b[0m\u001b[0mself\u001b[0m\u001b[0;34m.\u001b[0m\u001b[0masynchronous\u001b[0m\u001b[0;34m)\u001b[0m\u001b[0;34m\u001b[0m\u001b[0;34m\u001b[0m\u001b[0m\n\u001b[0m\u001b[1;32m    263\u001b[0m         \u001b[0mself\u001b[0m\u001b[0;34m.\u001b[0m\u001b[0mtrials\u001b[0m\u001b[0;34m.\u001b[0m\u001b[0mrefresh\u001b[0m\u001b[0;34m(\u001b[0m\u001b[0;34m)\u001b[0m\u001b[0;34m\u001b[0m\u001b[0;34m\u001b[0m\u001b[0m\n\u001b[1;32m    264\u001b[0m         \u001b[0;32mreturn\u001b[0m \u001b[0mself\u001b[0m\u001b[0;34m\u001b[0m\u001b[0;34m\u001b[0m\u001b[0m\n",
      "\u001b[0;32m/usr/local/lib/python3.6/dist-packages/hyperopt/fmin.py\u001b[0m in \u001b[0;36mrun\u001b[0;34m(self, N, block_until_done)\u001b[0m\n\u001b[1;32m    225\u001b[0m                     \u001b[0;32melse\u001b[0m\u001b[0;34m:\u001b[0m\u001b[0;34m\u001b[0m\u001b[0;34m\u001b[0m\u001b[0m\n\u001b[1;32m    226\u001b[0m                         \u001b[0;31m# -- loop over trials and do the jobs directly\u001b[0m\u001b[0;34m\u001b[0m\u001b[0;34m\u001b[0m\u001b[0;34m\u001b[0m\u001b[0m\n\u001b[0;32m--> 227\u001b[0;31m                         \u001b[0mself\u001b[0m\u001b[0;34m.\u001b[0m\u001b[0mserial_evaluate\u001b[0m\u001b[0;34m(\u001b[0m\u001b[0;34m)\u001b[0m\u001b[0;34m\u001b[0m\u001b[0;34m\u001b[0m\u001b[0m\n\u001b[0m\u001b[1;32m    228\u001b[0m \u001b[0;34m\u001b[0m\u001b[0m\n\u001b[1;32m    229\u001b[0m                     \u001b[0;32mtry\u001b[0m\u001b[0;34m:\u001b[0m\u001b[0;34m\u001b[0m\u001b[0;34m\u001b[0m\u001b[0m\n",
      "\u001b[0;32m/usr/local/lib/python3.6/dist-packages/hyperopt/fmin.py\u001b[0m in \u001b[0;36mserial_evaluate\u001b[0;34m(self, N)\u001b[0m\n\u001b[1;32m    139\u001b[0m                 \u001b[0mctrl\u001b[0m \u001b[0;34m=\u001b[0m \u001b[0mbase\u001b[0m\u001b[0;34m.\u001b[0m\u001b[0mCtrl\u001b[0m\u001b[0;34m(\u001b[0m\u001b[0mself\u001b[0m\u001b[0;34m.\u001b[0m\u001b[0mtrials\u001b[0m\u001b[0;34m,\u001b[0m \u001b[0mcurrent_trial\u001b[0m\u001b[0;34m=\u001b[0m\u001b[0mtrial\u001b[0m\u001b[0;34m)\u001b[0m\u001b[0;34m\u001b[0m\u001b[0;34m\u001b[0m\u001b[0m\n\u001b[1;32m    140\u001b[0m                 \u001b[0;32mtry\u001b[0m\u001b[0;34m:\u001b[0m\u001b[0;34m\u001b[0m\u001b[0;34m\u001b[0m\u001b[0m\n\u001b[0;32m--> 141\u001b[0;31m                     \u001b[0mresult\u001b[0m \u001b[0;34m=\u001b[0m \u001b[0mself\u001b[0m\u001b[0;34m.\u001b[0m\u001b[0mdomain\u001b[0m\u001b[0;34m.\u001b[0m\u001b[0mevaluate\u001b[0m\u001b[0;34m(\u001b[0m\u001b[0mspec\u001b[0m\u001b[0;34m,\u001b[0m \u001b[0mctrl\u001b[0m\u001b[0;34m)\u001b[0m\u001b[0;34m\u001b[0m\u001b[0;34m\u001b[0m\u001b[0m\n\u001b[0m\u001b[1;32m    142\u001b[0m                 \u001b[0;32mexcept\u001b[0m \u001b[0mException\u001b[0m \u001b[0;32mas\u001b[0m \u001b[0me\u001b[0m\u001b[0;34m:\u001b[0m\u001b[0;34m\u001b[0m\u001b[0;34m\u001b[0m\u001b[0m\n\u001b[1;32m    143\u001b[0m                     \u001b[0mlogger\u001b[0m\u001b[0;34m.\u001b[0m\u001b[0minfo\u001b[0m\u001b[0;34m(\u001b[0m\u001b[0;34m'job exception: %s'\u001b[0m \u001b[0;34m%\u001b[0m \u001b[0mstr\u001b[0m\u001b[0;34m(\u001b[0m\u001b[0me\u001b[0m\u001b[0;34m)\u001b[0m\u001b[0;34m)\u001b[0m\u001b[0;34m\u001b[0m\u001b[0;34m\u001b[0m\u001b[0m\n",
      "\u001b[0;32m/usr/local/lib/python3.6/dist-packages/hyperopt/base.py\u001b[0m in \u001b[0;36mevaluate\u001b[0;34m(self, config, ctrl, attach_attachments)\u001b[0m\n\u001b[1;32m    842\u001b[0m                 \u001b[0mmemo\u001b[0m\u001b[0;34m=\u001b[0m\u001b[0mmemo\u001b[0m\u001b[0;34m,\u001b[0m\u001b[0;34m\u001b[0m\u001b[0;34m\u001b[0m\u001b[0m\n\u001b[1;32m    843\u001b[0m                 print_node_on_error=self.rec_eval_print_node_on_error)\n\u001b[0;32m--> 844\u001b[0;31m             \u001b[0mrval\u001b[0m \u001b[0;34m=\u001b[0m \u001b[0mself\u001b[0m\u001b[0;34m.\u001b[0m\u001b[0mfn\u001b[0m\u001b[0;34m(\u001b[0m\u001b[0mpyll_rval\u001b[0m\u001b[0;34m)\u001b[0m\u001b[0;34m\u001b[0m\u001b[0;34m\u001b[0m\u001b[0m\n\u001b[0m\u001b[1;32m    845\u001b[0m \u001b[0;34m\u001b[0m\u001b[0m\n\u001b[1;32m    846\u001b[0m         \u001b[0;32mif\u001b[0m \u001b[0misinstance\u001b[0m\u001b[0;34m(\u001b[0m\u001b[0mrval\u001b[0m\u001b[0;34m,\u001b[0m \u001b[0;34m(\u001b[0m\u001b[0mfloat\u001b[0m\u001b[0;34m,\u001b[0m \u001b[0mint\u001b[0m\u001b[0;34m,\u001b[0m \u001b[0mnp\u001b[0m\u001b[0;34m.\u001b[0m\u001b[0mnumber\u001b[0m\u001b[0;34m)\u001b[0m\u001b[0;34m)\u001b[0m\u001b[0;34m:\u001b[0m\u001b[0;34m\u001b[0m\u001b[0;34m\u001b[0m\u001b[0m\n",
      "\u001b[0;32m/content/temp_model.py\u001b[0m in \u001b[0;36mkeras_fmin_fnct\u001b[0;34m(space)\u001b[0m\n",
      "\u001b[0;32m/usr/local/lib/python3.6/dist-packages/keras/engine/training.py\u001b[0m in \u001b[0;36mfit\u001b[0;34m(self, x, y, batch_size, epochs, verbose, callbacks, validation_split, validation_data, shuffle, class_weight, sample_weight, initial_epoch, steps_per_epoch, validation_steps, validation_freq, max_queue_size, workers, use_multiprocessing, **kwargs)\u001b[0m\n\u001b[1;32m   1176\u001b[0m                                         \u001b[0msteps_per_epoch\u001b[0m\u001b[0;34m=\u001b[0m\u001b[0msteps_per_epoch\u001b[0m\u001b[0;34m,\u001b[0m\u001b[0;34m\u001b[0m\u001b[0;34m\u001b[0m\u001b[0m\n\u001b[1;32m   1177\u001b[0m                                         \u001b[0mvalidation_steps\u001b[0m\u001b[0;34m=\u001b[0m\u001b[0mvalidation_steps\u001b[0m\u001b[0;34m,\u001b[0m\u001b[0;34m\u001b[0m\u001b[0;34m\u001b[0m\u001b[0m\n\u001b[0;32m-> 1178\u001b[0;31m                                         validation_freq=validation_freq)\n\u001b[0m\u001b[1;32m   1179\u001b[0m \u001b[0;34m\u001b[0m\u001b[0m\n\u001b[1;32m   1180\u001b[0m     def evaluate(self,\n",
      "\u001b[0;32m/usr/local/lib/python3.6/dist-packages/keras/engine/training_arrays.py\u001b[0m in \u001b[0;36mfit_loop\u001b[0;34m(model, fit_function, fit_inputs, out_labels, batch_size, epochs, verbose, callbacks, val_function, val_inputs, shuffle, callback_metrics, initial_epoch, steps_per_epoch, validation_steps, validation_freq)\u001b[0m\n\u001b[1;32m    202\u001b[0m                     \u001b[0mins_batch\u001b[0m\u001b[0;34m[\u001b[0m\u001b[0mi\u001b[0m\u001b[0;34m]\u001b[0m \u001b[0;34m=\u001b[0m \u001b[0mins_batch\u001b[0m\u001b[0;34m[\u001b[0m\u001b[0mi\u001b[0m\u001b[0;34m]\u001b[0m\u001b[0;34m.\u001b[0m\u001b[0mtoarray\u001b[0m\u001b[0;34m(\u001b[0m\u001b[0;34m)\u001b[0m\u001b[0;34m\u001b[0m\u001b[0;34m\u001b[0m\u001b[0m\n\u001b[1;32m    203\u001b[0m \u001b[0;34m\u001b[0m\u001b[0m\n\u001b[0;32m--> 204\u001b[0;31m                 \u001b[0mouts\u001b[0m \u001b[0;34m=\u001b[0m \u001b[0mfit_function\u001b[0m\u001b[0;34m(\u001b[0m\u001b[0mins_batch\u001b[0m\u001b[0;34m)\u001b[0m\u001b[0;34m\u001b[0m\u001b[0;34m\u001b[0m\u001b[0m\n\u001b[0m\u001b[1;32m    205\u001b[0m                 \u001b[0mouts\u001b[0m \u001b[0;34m=\u001b[0m \u001b[0mto_list\u001b[0m\u001b[0;34m(\u001b[0m\u001b[0mouts\u001b[0m\u001b[0;34m)\u001b[0m\u001b[0;34m\u001b[0m\u001b[0;34m\u001b[0m\u001b[0m\n\u001b[1;32m    206\u001b[0m                 \u001b[0;32mfor\u001b[0m \u001b[0ml\u001b[0m\u001b[0;34m,\u001b[0m \u001b[0mo\u001b[0m \u001b[0;32min\u001b[0m \u001b[0mzip\u001b[0m\u001b[0;34m(\u001b[0m\u001b[0mout_labels\u001b[0m\u001b[0;34m,\u001b[0m \u001b[0mouts\u001b[0m\u001b[0;34m)\u001b[0m\u001b[0;34m:\u001b[0m\u001b[0;34m\u001b[0m\u001b[0;34m\u001b[0m\u001b[0m\n",
      "\u001b[0;32m/usr/local/lib/python3.6/dist-packages/keras/backend/tensorflow_backend.py\u001b[0m in \u001b[0;36m__call__\u001b[0;34m(self, inputs)\u001b[0m\n\u001b[1;32m   2977\u001b[0m                     \u001b[0;32mreturn\u001b[0m \u001b[0mself\u001b[0m\u001b[0;34m.\u001b[0m\u001b[0m_legacy_call\u001b[0m\u001b[0;34m(\u001b[0m\u001b[0minputs\u001b[0m\u001b[0;34m)\u001b[0m\u001b[0;34m\u001b[0m\u001b[0;34m\u001b[0m\u001b[0m\n\u001b[1;32m   2978\u001b[0m \u001b[0;34m\u001b[0m\u001b[0m\n\u001b[0;32m-> 2979\u001b[0;31m             \u001b[0;32mreturn\u001b[0m \u001b[0mself\u001b[0m\u001b[0;34m.\u001b[0m\u001b[0m_call\u001b[0m\u001b[0;34m(\u001b[0m\u001b[0minputs\u001b[0m\u001b[0;34m)\u001b[0m\u001b[0;34m\u001b[0m\u001b[0;34m\u001b[0m\u001b[0m\n\u001b[0m\u001b[1;32m   2980\u001b[0m         \u001b[0;32melse\u001b[0m\u001b[0;34m:\u001b[0m\u001b[0;34m\u001b[0m\u001b[0;34m\u001b[0m\u001b[0m\n\u001b[1;32m   2981\u001b[0m             \u001b[0;32mif\u001b[0m \u001b[0mpy_any\u001b[0m\u001b[0;34m(\u001b[0m\u001b[0mis_tensor\u001b[0m\u001b[0;34m(\u001b[0m\u001b[0mx\u001b[0m\u001b[0;34m)\u001b[0m \u001b[0;32mfor\u001b[0m \u001b[0mx\u001b[0m \u001b[0;32min\u001b[0m \u001b[0minputs\u001b[0m\u001b[0;34m)\u001b[0m\u001b[0;34m:\u001b[0m\u001b[0;34m\u001b[0m\u001b[0;34m\u001b[0m\u001b[0m\n",
      "\u001b[0;32m/usr/local/lib/python3.6/dist-packages/keras/backend/tensorflow_backend.py\u001b[0m in \u001b[0;36m_call\u001b[0;34m(self, inputs)\u001b[0m\n\u001b[1;32m   2935\u001b[0m             \u001b[0mfetched\u001b[0m \u001b[0;34m=\u001b[0m \u001b[0mself\u001b[0m\u001b[0;34m.\u001b[0m\u001b[0m_callable_fn\u001b[0m\u001b[0;34m(\u001b[0m\u001b[0;34m*\u001b[0m\u001b[0marray_vals\u001b[0m\u001b[0;34m,\u001b[0m \u001b[0mrun_metadata\u001b[0m\u001b[0;34m=\u001b[0m\u001b[0mself\u001b[0m\u001b[0;34m.\u001b[0m\u001b[0mrun_metadata\u001b[0m\u001b[0;34m)\u001b[0m\u001b[0;34m\u001b[0m\u001b[0;34m\u001b[0m\u001b[0m\n\u001b[1;32m   2936\u001b[0m         \u001b[0;32melse\u001b[0m\u001b[0;34m:\u001b[0m\u001b[0;34m\u001b[0m\u001b[0;34m\u001b[0m\u001b[0m\n\u001b[0;32m-> 2937\u001b[0;31m             \u001b[0mfetched\u001b[0m \u001b[0;34m=\u001b[0m \u001b[0mself\u001b[0m\u001b[0;34m.\u001b[0m\u001b[0m_callable_fn\u001b[0m\u001b[0;34m(\u001b[0m\u001b[0;34m*\u001b[0m\u001b[0marray_vals\u001b[0m\u001b[0;34m)\u001b[0m\u001b[0;34m\u001b[0m\u001b[0;34m\u001b[0m\u001b[0m\n\u001b[0m\u001b[1;32m   2938\u001b[0m         \u001b[0;32mreturn\u001b[0m \u001b[0mfetched\u001b[0m\u001b[0;34m[\u001b[0m\u001b[0;34m:\u001b[0m\u001b[0mlen\u001b[0m\u001b[0;34m(\u001b[0m\u001b[0mself\u001b[0m\u001b[0;34m.\u001b[0m\u001b[0moutputs\u001b[0m\u001b[0;34m)\u001b[0m\u001b[0;34m]\u001b[0m\u001b[0;34m\u001b[0m\u001b[0;34m\u001b[0m\u001b[0m\n\u001b[1;32m   2939\u001b[0m \u001b[0;34m\u001b[0m\u001b[0m\n",
      "\u001b[0;32m/usr/local/lib/python3.6/dist-packages/tensorflow_core/python/client/session.py\u001b[0m in \u001b[0;36m__call__\u001b[0;34m(self, *args, **kwargs)\u001b[0m\n\u001b[1;32m   1470\u001b[0m         ret = tf_session.TF_SessionRunCallable(self._session._session,\n\u001b[1;32m   1471\u001b[0m                                                \u001b[0mself\u001b[0m\u001b[0;34m.\u001b[0m\u001b[0m_handle\u001b[0m\u001b[0;34m,\u001b[0m \u001b[0margs\u001b[0m\u001b[0;34m,\u001b[0m\u001b[0;34m\u001b[0m\u001b[0;34m\u001b[0m\u001b[0m\n\u001b[0;32m-> 1472\u001b[0;31m                                                run_metadata_ptr)\n\u001b[0m\u001b[1;32m   1473\u001b[0m         \u001b[0;32mif\u001b[0m \u001b[0mrun_metadata\u001b[0m\u001b[0;34m:\u001b[0m\u001b[0;34m\u001b[0m\u001b[0;34m\u001b[0m\u001b[0m\n\u001b[1;32m   1474\u001b[0m           \u001b[0mproto_data\u001b[0m \u001b[0;34m=\u001b[0m \u001b[0mtf_session\u001b[0m\u001b[0;34m.\u001b[0m\u001b[0mTF_GetBuffer\u001b[0m\u001b[0;34m(\u001b[0m\u001b[0mrun_metadata_ptr\u001b[0m\u001b[0;34m)\u001b[0m\u001b[0;34m\u001b[0m\u001b[0;34m\u001b[0m\u001b[0m\n",
      "\u001b[0;31mKeyboardInterrupt\u001b[0m: "
     ]
    }
   ],
   "source": [
    "\"\"\"\n",
    "import warnings\n",
    "warnings.filterwarnings('ignore')\n",
    "best_run, best_model = optim.minimize(model=create_model, data=data, algo=tpe.suggest, max_evals=4, trials=Trials(), notebook_name = \"drive/My Drive/Colab Notebooks/HAR_LSTM\")\n",
    "x_train, y_train, x_test, y_test = data()\n",
    "\n",
    "score = best_model.evaluate(x_test, y_test)\n",
    "\n",
    "print('---------------------')\n",
    "print('|      Accuracy      |')\n",
    "print('---------------------')\n",
    "acc = np.round((score[1]*100), 2)\n",
    "print(str(acc)+\"%\\n\")\n",
    "    \n",
    "print('----------------------------------')\n",
    "print('|      Best Hyper-Parameters      |')\n",
    "print('----------------------------------')\n",
    "print(best_run)\n",
    "print(\"\\n\\n\")\n",
    "\n",
    "true_labels = [np.argmax(i)+1 for i in y_test]\n",
    "predicted_probs = best_model.predict(x_test)\n",
    "predicted_labels = [np.argmax(i)+1 for i in predicted_probs]\n",
    "print_confusionMatrix(true_labels, predicted_labels)\n",
    "\"\"\""
   ]
  },
  {
   "cell_type": "markdown",
   "metadata": {
    "colab_type": "text",
    "id": "mn_56e4aFDEw"
   },
   "source": [
    "# Classifying the activities in Static and Dynamic and then combinig both the models using divide and conquer based approach"
   ]
  },
  {
   "cell_type": "code",
   "execution_count": 0,
   "metadata": {
    "colab": {},
    "colab_type": "code",
    "id": "fPeFYmB4xHxP"
   },
   "outputs": [],
   "source": [
    "#initializing the session\n",
    "tf.set_random_seed(0)\n",
    "session_conf = tf.ConfigProto(intra_op_parallelism_threads=1,\n",
    "                              inter_op_parallelism_threads=1)\n",
    "\n"
   ]
  },
  {
   "cell_type": "markdown",
   "metadata": {
    "colab_type": "text",
    "id": "TRyP61vPFTfG"
   },
   "source": [
    "## 2 class classification"
   ]
  },
  {
   "cell_type": "code",
   "execution_count": 0,
   "metadata": {
    "colab": {
     "base_uri": "https://localhost:8080/",
     "height": 50
    },
    "colab_type": "code",
    "id": "17ZRh3sdyVqM",
    "outputId": "6869dd39-ca3d-47bd-d353-fca72b412938"
   },
   "outputs": [
    {
     "name": "stdout",
     "output_type": "stream",
     "text": [
      "(7352, 2)\n",
      "(2947, 2)\n"
     ]
    }
   ],
   "source": [
    "## Classifying data as 2 class dynamic vs static \n",
    "##data preparation\n",
    "    \n",
    "def load_y(subset):\n",
    "        \"\"\"\n",
    "        The objective that we are trying to predict is a integer, from 1 to 6,\n",
    "        that represents a human activity. We return a binary representation of \n",
    "        every sample objective as a 6 bits vector using One Hot Encoding\n",
    "        \"\"\"\n",
    "        filename = f'drive/My Drive/UCI_HAR_Dataset/{subset}/y_{subset}.txt'\n",
    "        y = _read_csv(filename)[0]\n",
    "        y[y<=3] = 0 #for all dynamic activities\n",
    "        y[y>3] = 1 #for all stattic activities\n",
    "        return pd.get_dummies(y).as_matrix()#getting thee matrix \n",
    "    \n",
    "x_train,x_test = load_signals('train'), load_signals('test')\n",
    "y_train,y_test = load_y('train'), load_y('test')\n",
    "print(x_train.shape)\n",
    "print(x_test.shape)"
   ]
  },
  {
   "cell_type": "markdown",
   "metadata": {
    "colab_type": "text",
    "id": "bMyljTgzGm88"
   },
   "source": [
    "## Architecture 1 with adam optimizer for classifying 2 classes"
   ]
  },
  {
   "cell_type": "code",
   "execution_count": 0,
   "metadata": {
    "colab": {
     "base_uri": "https://localhost:8080/",
     "height": 386
    },
    "colab_type": "code",
    "id": "MlUHkIuN046Z",
    "outputId": "b1720bb3-ee89-4eeb-9878-38c503a4a580"
   },
   "outputs": [
    {
     "name": "stdout",
     "output_type": "stream",
     "text": [
      "Model: \"sequential_1\"\n",
      "_________________________________________________________________\n",
      "Layer (type)                 Output Shape              Param #   \n",
      "=================================================================\n",
      "conv1d_1 (Conv1D)            (None, 126, 32)           896       \n",
      "_________________________________________________________________\n",
      "conv1d_2 (Conv1D)            (None, 124, 32)           3104      \n",
      "_________________________________________________________________\n",
      "dropout_1 (Dropout)          (None, 124, 32)           0         \n",
      "_________________________________________________________________\n",
      "max_pooling1d_1 (MaxPooling1 (None, 62, 32)            0         \n",
      "_________________________________________________________________\n",
      "flatten_1 (Flatten)          (None, 1984)              0         \n",
      "_________________________________________________________________\n",
      "dense_1 (Dense)              (None, 50)                99250     \n",
      "_________________________________________________________________\n",
      "dense_2 (Dense)              (None, 2)                 102       \n",
      "=================================================================\n",
      "Total params: 103,352\n",
      "Trainable params: 103,352\n",
      "Non-trainable params: 0\n",
      "_________________________________________________________________\n"
     ]
    }
   ],
   "source": [
    "\n",
    "sess = tf.Session(graph=tf.get_default_graph())\n",
    "K.set_session(sess)\n",
    "model_2c = Sequential()\n",
    "model_2c.add(Conv1D(filters=32, kernel_size=3, activation='relu',kernel_initializer='he_uniform',input_shape=(128,9),bias_regularizer=reg))\n",
    "model_2c.add(Conv1D(filters=32, kernel_size=3, activation='relu',kernel_initializer='he_uniform'))\n",
    "model_2c.add(Dropout(0.6))\n",
    "model_2c.add(MaxPooling1D(pool_size=2))\n",
    "model_2c.add(Flatten())\n",
    "model_2c.add(Dense(50, activation='relu'))\n",
    "model_2c.add(Dense(2, activation='softmax'))\n",
    "model_2c.summary()"
   ]
  },
  {
   "cell_type": "code",
   "execution_count": 0,
   "metadata": {
    "colab": {
     "base_uri": "https://localhost:8080/",
     "height": 722
    },
    "colab_type": "code",
    "id": "FCf7u9Ho1D5d",
    "outputId": "b83a983a-9f2a-4c93-e9a9-724c69d7c285"
   },
   "outputs": [
    {
     "name": "stdout",
     "output_type": "stream",
     "text": [
      "Train on 7352 samples, validate on 2947 samples\n",
      "Epoch 1/20\n",
      "7352/7352 [==============================] - 3s 382us/step - loss: 0.0571 - acc: 0.9778 - val_loss: 0.0136 - val_acc: 0.9976\n",
      "Epoch 2/20\n",
      "7352/7352 [==============================] - 2s 337us/step - loss: 0.0033 - acc: 0.9992 - val_loss: 0.0169 - val_acc: 0.9932\n",
      "Epoch 3/20\n",
      "7352/7352 [==============================] - 3s 355us/step - loss: 9.8120e-04 - acc: 0.9995 - val_loss: 0.0345 - val_acc: 0.9888\n",
      "Epoch 4/20\n",
      "7352/7352 [==============================] - 3s 358us/step - loss: 0.0012 - acc: 0.9997 - val_loss: 0.0192 - val_acc: 0.9936\n",
      "Epoch 5/20\n",
      "7352/7352 [==============================] - 2s 338us/step - loss: 5.9842e-05 - acc: 1.0000 - val_loss: 0.0260 - val_acc: 0.9898\n",
      "Epoch 6/20\n",
      "7352/7352 [==============================] - 2s 331us/step - loss: 4.4741e-05 - acc: 1.0000 - val_loss: 0.0307 - val_acc: 0.9895\n",
      "Epoch 7/20\n",
      "7352/7352 [==============================] - 2s 325us/step - loss: 5.2726e-05 - acc: 1.0000 - val_loss: 0.0284 - val_acc: 0.9898\n",
      "Epoch 8/20\n",
      "7352/7352 [==============================] - 2s 340us/step - loss: 4.7698e-05 - acc: 1.0000 - val_loss: 0.0292 - val_acc: 0.9895\n",
      "Epoch 9/20\n",
      "7352/7352 [==============================] - 3s 373us/step - loss: 4.1584e-05 - acc: 1.0000 - val_loss: 0.0374 - val_acc: 0.9895\n",
      "Epoch 10/20\n",
      "7352/7352 [==============================] - 2s 315us/step - loss: 3.8117e-05 - acc: 1.0000 - val_loss: 0.0455 - val_acc: 0.9891\n",
      "Epoch 11/20\n",
      "7352/7352 [==============================] - 3s 363us/step - loss: 3.5981e-05 - acc: 1.0000 - val_loss: 0.0427 - val_acc: 0.9891\n",
      "Epoch 12/20\n",
      "7352/7352 [==============================] - 3s 359us/step - loss: 3.3263e-05 - acc: 1.0000 - val_loss: 0.0432 - val_acc: 0.9891\n",
      "Epoch 13/20\n",
      "7352/7352 [==============================] - 3s 356us/step - loss: 3.8532e-05 - acc: 1.0000 - val_loss: 0.0491 - val_acc: 0.9895\n",
      "Epoch 14/20\n",
      "7352/7352 [==============================] - 3s 345us/step - loss: 3.4566e-05 - acc: 1.0000 - val_loss: 0.0456 - val_acc: 0.9895\n",
      "Epoch 15/20\n",
      "7352/7352 [==============================] - 3s 354us/step - loss: 3.3491e-05 - acc: 1.0000 - val_loss: 0.0475 - val_acc: 0.9895\n",
      "Epoch 16/20\n",
      "7352/7352 [==============================] - 2s 340us/step - loss: 3.3821e-05 - acc: 1.0000 - val_loss: 0.0412 - val_acc: 0.9898\n",
      "Epoch 17/20\n",
      "7352/7352 [==============================] - 3s 345us/step - loss: 3.5012e-05 - acc: 1.0000 - val_loss: 0.0437 - val_acc: 0.9895\n",
      "Epoch 18/20\n",
      "7352/7352 [==============================] - 2s 321us/step - loss: 3.6307e-05 - acc: 1.0000 - val_loss: 0.0492 - val_acc: 0.9895\n",
      "Epoch 19/20\n",
      "7352/7352 [==============================] - 3s 360us/step - loss: 0.0576 - acc: 0.9952 - val_loss: 0.1907 - val_acc: 0.9868\n",
      "Epoch 20/20\n",
      "7352/7352 [==============================] - 3s 364us/step - loss: 0.0952 - acc: 0.9937 - val_loss: 0.0144 - val_acc: 0.9990\n"
     ]
    },
    {
     "data": {
      "text/plain": [
       "<keras.callbacks.History at 0x7feae7c11400>"
      ]
     },
     "execution_count": 90,
     "metadata": {
      "tags": []
     },
     "output_type": "execute_result"
    }
   ],
   "source": [
    "model_2c.compile(loss='categorical_crossentropy', optimizer='adam', metrics=['accuracy'])\n",
    "model_2c.fit(x_train,y_train, epochs=20, batch_size=16,validation_data=(x_test, y_test), verbose=1)"
   ]
  },
  {
   "cell_type": "code",
   "execution_count": 0,
   "metadata": {
    "colab": {},
    "colab_type": "code",
    "id": "y5wRpM18JNrZ"
   },
   "outputs": [],
   "source": [
    "#saving model\n",
    "model_2c.save('final_model_2c.h5')"
   ]
  },
  {
   "cell_type": "markdown",
   "metadata": {},
   "source": [
    "## Classifying the static activities"
   ]
  },
  {
   "cell_type": "code",
   "execution_count": 0,
   "metadata": {
    "colab": {},
    "colab_type": "code",
    "id": "3uVJkMqa57Iu"
   },
   "outputs": [],
   "source": [
    "\n",
    "def load_y(subset):\n",
    "\"\"\"\n",
    "    The objective that we are trying to predict is a integer, from 1 to 6,\n",
    "    that represents a human activity. We return a binary representation of \n",
    "    every sample objective as a 6 bits vector using One Hot Encoding\n",
    "    (https://pandas.pydata.org/pandas-docs/stable/generated/pandas.get_dummies.html)\n",
    "        \"\"\"\n",
    "    filename = f'drive/My Drive/UCI_HAR_Dataset/{subset}/y_{subset}.txt'\n",
    "    y = _read_csv(filename)[0]\n",
    "    y_subset = y>3 #for static activities\n",
    "    y = y[y_subset]\n",
    "    return pd.get_dummies(y).as_matrix(),y_subset\n",
    "    \n",
    "Y_train_s,y_train_sub = load_y('train')\n",
    "Y_val_s,y_test_sub = load_y('test')\n",
    "X_train_s, X_val_s = load_signals('train'), load_signals('test')\n",
    "X_train_s = X_train_s[y_train_sub]\n",
    "X_val_s = X_val_s[y_test_sub]\n",
    "    \n"
   ]
  },
  {
   "cell_type": "markdown",
   "metadata": {},
   "source": [
    "## Architecture 2 with adam optimizer"
   ]
  },
  {
   "cell_type": "code",
   "execution_count": 0,
   "metadata": {
    "colab": {
     "base_uri": "https://localhost:8080/",
     "height": 386
    },
    "colab_type": "code",
    "id": "cqwcXQhq6Ifc",
    "outputId": "89a6c312-9dc8-472c-acf3-e0ecfe761230"
   },
   "outputs": [
    {
     "name": "stdout",
     "output_type": "stream",
     "text": [
      "Model: \"sequential_2\"\n",
      "_________________________________________________________________\n",
      "Layer (type)                 Output Shape              Param #   \n",
      "=================================================================\n",
      "conv1d_3 (Conv1D)            (None, 122, 128)          8192      \n",
      "_________________________________________________________________\n",
      "conv1d_4 (Conv1D)            (None, 120, 96)           36960     \n",
      "_________________________________________________________________\n",
      "dropout_2 (Dropout)          (None, 120, 96)           0         \n",
      "_________________________________________________________________\n",
      "max_pooling1d_2 (MaxPooling1 (None, 40, 96)            0         \n",
      "_________________________________________________________________\n",
      "flatten_2 (Flatten)          (None, 3840)              0         \n",
      "_________________________________________________________________\n",
      "dense_3 (Dense)              (None, 30)                115230    \n",
      "_________________________________________________________________\n",
      "dense_4 (Dense)              (None, 3)                 93        \n",
      "=================================================================\n",
      "Total params: 160,475\n",
      "Trainable params: 160,475\n",
      "Non-trainable params: 0\n",
      "_________________________________________________________________\n"
     ]
    }
   ],
   "source": [
    "np.random.seed(0)\n",
    "#tf.set_random_seed(0)\n",
    "#sess = tf.Session(graph=tf.get_default_graph())\n",
    "#K.set_session(sess)\n",
    "model = Sequential()\n",
    "model.add(Conv1D(filters=128, kernel_size=7, activation='relu',kernel_initializer='he_uniform',input_shape=(128,9)))\n",
    "model.add(Conv1D(filters=96, kernel_size=3, activation='relu',kernel_initializer='he_uniform'))\n",
    "model.add(Dropout(0.7))\n",
    "model.add(MaxPooling1D(pool_size=3))\n",
    "model.add(Flatten())\n",
    "model.add(Dense(30, activation='relu'))\n",
    "model.add(Dense(3, activation='softmax'))\n",
    "model.summary()"
   ]
  },
  {
   "cell_type": "code",
   "execution_count": 0,
   "metadata": {
    "colab": {
     "base_uri": "https://localhost:8080/",
     "height": 1000
    },
    "colab_type": "code",
    "id": "HGKBnRNF6cPP",
    "outputId": "9eff683e-b396-47c3-9ef5-20099c85b08c"
   },
   "outputs": [
    {
     "name": "stdout",
     "output_type": "stream",
     "text": [
      "Train on 4067 samples, validate on 1560 samples\n",
      "Epoch 1/100\n",
      "4067/4067 [==============================] - 1s 292us/step - loss: 0.3541 - acc: 0.8785 - val_loss: 0.3553 - val_acc: 0.8814\n",
      "Epoch 2/100\n",
      "4067/4067 [==============================] - 1s 198us/step - loss: 0.2323 - acc: 0.9142 - val_loss: 0.2968 - val_acc: 0.9006\n",
      "Epoch 3/100\n",
      "4067/4067 [==============================] - 1s 182us/step - loss: 0.1686 - acc: 0.9343 - val_loss: 0.2738 - val_acc: 0.9058\n",
      "Epoch 4/100\n",
      "4067/4067 [==============================] - 1s 173us/step - loss: 0.2100 - acc: 0.9343 - val_loss: 0.2724 - val_acc: 0.9083\n",
      "Epoch 5/100\n",
      "4067/4067 [==============================] - 1s 185us/step - loss: 0.1412 - acc: 0.9452 - val_loss: 0.2368 - val_acc: 0.9192\n",
      "Epoch 6/100\n",
      "4067/4067 [==============================] - 1s 170us/step - loss: 0.1148 - acc: 0.9577 - val_loss: 0.2803 - val_acc: 0.9115\n",
      "Epoch 7/100\n",
      "4067/4067 [==============================] - 1s 178us/step - loss: 0.1630 - acc: 0.9466 - val_loss: 0.1862 - val_acc: 0.9346\n",
      "Epoch 8/100\n",
      "4067/4067 [==============================] - 1s 165us/step - loss: 0.1223 - acc: 0.9570 - val_loss: 0.2004 - val_acc: 0.9167\n",
      "Epoch 9/100\n",
      "4067/4067 [==============================] - 1s 171us/step - loss: 0.0896 - acc: 0.9636 - val_loss: 0.1852 - val_acc: 0.9404\n",
      "Epoch 10/100\n",
      "4067/4067 [==============================] - 1s 176us/step - loss: 0.0774 - acc: 0.9678 - val_loss: 0.1672 - val_acc: 0.9526\n",
      "Epoch 11/100\n",
      "4067/4067 [==============================] - 1s 168us/step - loss: 0.0786 - acc: 0.9720 - val_loss: 0.1794 - val_acc: 0.9468\n",
      "Epoch 12/100\n",
      "4067/4067 [==============================] - 1s 163us/step - loss: 0.0616 - acc: 0.9786 - val_loss: 0.1809 - val_acc: 0.9519\n",
      "Epoch 13/100\n",
      "4067/4067 [==============================] - 1s 186us/step - loss: 0.0689 - acc: 0.9737 - val_loss: 0.1848 - val_acc: 0.9500\n",
      "Epoch 14/100\n",
      "4067/4067 [==============================] - 1s 190us/step - loss: 0.0478 - acc: 0.9838 - val_loss: 0.2004 - val_acc: 0.9327\n",
      "Epoch 15/100\n",
      "4067/4067 [==============================] - 1s 158us/step - loss: 0.0415 - acc: 0.9852 - val_loss: 0.1679 - val_acc: 0.9551\n",
      "Epoch 16/100\n",
      "4067/4067 [==============================] - 1s 159us/step - loss: 0.0738 - acc: 0.9796 - val_loss: 0.1706 - val_acc: 0.9397\n",
      "Epoch 17/100\n",
      "4067/4067 [==============================] - 1s 156us/step - loss: 0.1131 - acc: 0.9712 - val_loss: 0.2256 - val_acc: 0.9455\n",
      "Epoch 18/100\n",
      "4067/4067 [==============================] - 1s 182us/step - loss: 0.1101 - acc: 0.9761 - val_loss: 0.1676 - val_acc: 0.9385\n",
      "Epoch 19/100\n",
      "4067/4067 [==============================] - 1s 186us/step - loss: 0.1998 - acc: 0.9619 - val_loss: 0.2179 - val_acc: 0.9410\n",
      "Epoch 20/100\n",
      "4067/4067 [==============================] - 1s 185us/step - loss: 0.1361 - acc: 0.9744 - val_loss: 0.1723 - val_acc: 0.9391\n",
      "Epoch 21/100\n",
      "4067/4067 [==============================] - 1s 181us/step - loss: 0.0650 - acc: 0.9838 - val_loss: 0.1736 - val_acc: 0.9340\n",
      "Epoch 22/100\n",
      "4067/4067 [==============================] - 1s 181us/step - loss: 0.0307 - acc: 0.9887 - val_loss: 0.1202 - val_acc: 0.9635\n",
      "Epoch 23/100\n",
      "4067/4067 [==============================] - 1s 186us/step - loss: 0.0497 - acc: 0.9855 - val_loss: 0.1510 - val_acc: 0.9404\n",
      "Epoch 24/100\n",
      "4067/4067 [==============================] - 1s 177us/step - loss: 0.0270 - acc: 0.9914 - val_loss: 0.1527 - val_acc: 0.9481\n",
      "Epoch 25/100\n",
      "4067/4067 [==============================] - 1s 188us/step - loss: 0.0197 - acc: 0.9931 - val_loss: 0.1933 - val_acc: 0.9385\n",
      "Epoch 26/100\n",
      "4067/4067 [==============================] - 1s 181us/step - loss: 0.0199 - acc: 0.9934 - val_loss: 0.1529 - val_acc: 0.9526\n",
      "Epoch 27/100\n",
      "4067/4067 [==============================] - 1s 176us/step - loss: 0.0172 - acc: 0.9948 - val_loss: 0.1554 - val_acc: 0.9442\n",
      "Epoch 28/100\n",
      "4067/4067 [==============================] - 1s 157us/step - loss: 0.0170 - acc: 0.9946 - val_loss: 0.1688 - val_acc: 0.9455\n",
      "Epoch 29/100\n",
      "4067/4067 [==============================] - 1s 169us/step - loss: 0.0155 - acc: 0.9951 - val_loss: 0.1701 - val_acc: 0.9551\n",
      "Epoch 30/100\n",
      "4067/4067 [==============================] - 1s 168us/step - loss: 0.0122 - acc: 0.9958 - val_loss: 0.1793 - val_acc: 0.9513\n",
      "Epoch 31/100\n",
      "4067/4067 [==============================] - 1s 174us/step - loss: 0.0061 - acc: 0.9980 - val_loss: 0.1534 - val_acc: 0.9615\n",
      "Epoch 32/100\n",
      "4067/4067 [==============================] - 1s 160us/step - loss: 0.0157 - acc: 0.9946 - val_loss: 0.1730 - val_acc: 0.9519\n",
      "Epoch 33/100\n",
      "4067/4067 [==============================] - 1s 184us/step - loss: 0.0175 - acc: 0.9943 - val_loss: 0.1501 - val_acc: 0.9577\n",
      "Epoch 34/100\n",
      "4067/4067 [==============================] - 1s 179us/step - loss: 0.0104 - acc: 0.9966 - val_loss: 0.1649 - val_acc: 0.9519\n",
      "Epoch 35/100\n",
      "4067/4067 [==============================] - 1s 172us/step - loss: 0.1531 - acc: 0.9752 - val_loss: 0.2777 - val_acc: 0.9282\n",
      "Epoch 36/100\n",
      "4067/4067 [==============================] - 1s 169us/step - loss: 0.1312 - acc: 0.9752 - val_loss: 0.2261 - val_acc: 0.9423\n",
      "Epoch 37/100\n",
      "4067/4067 [==============================] - 1s 175us/step - loss: 0.0569 - acc: 0.9872 - val_loss: 0.2068 - val_acc: 0.9526\n",
      "Epoch 38/100\n",
      "4067/4067 [==============================] - 1s 171us/step - loss: 0.1043 - acc: 0.9813 - val_loss: 0.2386 - val_acc: 0.9468\n",
      "Epoch 39/100\n",
      "4067/4067 [==============================] - 1s 183us/step - loss: 0.1129 - acc: 0.9850 - val_loss: 0.3031 - val_acc: 0.9449\n",
      "Epoch 40/100\n",
      "4067/4067 [==============================] - 1s 196us/step - loss: 0.0999 - acc: 0.9862 - val_loss: 0.2647 - val_acc: 0.9468\n",
      "Epoch 41/100\n",
      "4067/4067 [==============================] - 1s 175us/step - loss: 0.0914 - acc: 0.9892 - val_loss: 0.2846 - val_acc: 0.9571\n",
      "Epoch 42/100\n",
      "4067/4067 [==============================] - 1s 157us/step - loss: 0.0916 - acc: 0.9848 - val_loss: 0.3079 - val_acc: 0.9449\n",
      "Epoch 43/100\n",
      "4067/4067 [==============================] - 1s 193us/step - loss: 0.0766 - acc: 0.9899 - val_loss: 0.2729 - val_acc: 0.9455\n",
      "Epoch 44/100\n",
      "4067/4067 [==============================] - 1s 165us/step - loss: 0.1220 - acc: 0.9786 - val_loss: 0.2277 - val_acc: 0.9513\n",
      "Epoch 45/100\n",
      "4067/4067 [==============================] - 1s 156us/step - loss: 0.0741 - acc: 0.9899 - val_loss: 0.2314 - val_acc: 0.9500\n",
      "Epoch 46/100\n",
      "4067/4067 [==============================] - 1s 198us/step - loss: 0.0675 - acc: 0.9921 - val_loss: 0.3048 - val_acc: 0.9455\n",
      "Epoch 47/100\n",
      "4067/4067 [==============================] - 1s 184us/step - loss: 0.0736 - acc: 0.9914 - val_loss: 0.2589 - val_acc: 0.9538\n",
      "Epoch 48/100\n",
      "4067/4067 [==============================] - 1s 172us/step - loss: 0.0755 - acc: 0.9899 - val_loss: 0.2515 - val_acc: 0.9571\n",
      "Epoch 49/100\n",
      "4067/4067 [==============================] - 1s 153us/step - loss: 0.0618 - acc: 0.9946 - val_loss: 0.2620 - val_acc: 0.9564\n",
      "Epoch 50/100\n",
      "4067/4067 [==============================] - 1s 163us/step - loss: 0.0644 - acc: 0.9919 - val_loss: 0.2882 - val_acc: 0.9442\n",
      "Epoch 51/100\n",
      "4067/4067 [==============================] - 1s 151us/step - loss: 0.0627 - acc: 0.9931 - val_loss: 0.2807 - val_acc: 0.9526\n",
      "Epoch 52/100\n",
      "4067/4067 [==============================] - 1s 189us/step - loss: 0.0592 - acc: 0.9941 - val_loss: 0.2680 - val_acc: 0.9551\n",
      "Epoch 53/100\n",
      "4067/4067 [==============================] - 1s 178us/step - loss: 0.0558 - acc: 0.9956 - val_loss: 0.2747 - val_acc: 0.9526\n",
      "Epoch 54/100\n",
      "4067/4067 [==============================] - 1s 167us/step - loss: 0.0548 - acc: 0.9961 - val_loss: 0.3294 - val_acc: 0.9455\n",
      "Epoch 55/100\n",
      "4067/4067 [==============================] - 1s 188us/step - loss: 0.0533 - acc: 0.9963 - val_loss: 0.2992 - val_acc: 0.9513\n",
      "Epoch 56/100\n",
      "4067/4067 [==============================] - 1s 191us/step - loss: 0.0544 - acc: 0.9958 - val_loss: 0.3167 - val_acc: 0.9487\n",
      "Epoch 57/100\n",
      "4067/4067 [==============================] - 1s 171us/step - loss: 0.0715 - acc: 0.9916 - val_loss: 0.3049 - val_acc: 0.9545\n",
      "Epoch 58/100\n",
      "4067/4067 [==============================] - 1s 184us/step - loss: 0.1542 - acc: 0.9774 - val_loss: 0.3054 - val_acc: 0.9385\n",
      "Epoch 59/100\n",
      "4067/4067 [==============================] - 1s 174us/step - loss: 0.0721 - acc: 0.9929 - val_loss: 0.3415 - val_acc: 0.9436\n",
      "Epoch 60/100\n",
      "4067/4067 [==============================] - 1s 200us/step - loss: 0.0749 - acc: 0.9919 - val_loss: 0.3070 - val_acc: 0.9449\n",
      "Epoch 61/100\n",
      "4067/4067 [==============================] - 1s 174us/step - loss: 0.0634 - acc: 0.9958 - val_loss: 0.3300 - val_acc: 0.9468\n",
      "Epoch 62/100\n",
      "4067/4067 [==============================] - 1s 186us/step - loss: 0.0849 - acc: 0.9897 - val_loss: 0.3602 - val_acc: 0.9378\n",
      "Epoch 63/100\n",
      "4067/4067 [==============================] - 1s 182us/step - loss: 0.1279 - acc: 0.9875 - val_loss: 0.3587 - val_acc: 0.9449\n",
      "Epoch 64/100\n",
      "4067/4067 [==============================] - 1s 185us/step - loss: 0.0737 - acc: 0.9919 - val_loss: 0.5122 - val_acc: 0.9244\n",
      "Epoch 65/100\n",
      "4067/4067 [==============================] - 1s 168us/step - loss: 0.1233 - acc: 0.9845 - val_loss: 0.3987 - val_acc: 0.9417\n",
      "Epoch 66/100\n",
      "4067/4067 [==============================] - 1s 162us/step - loss: 0.0823 - acc: 0.9929 - val_loss: 0.5586 - val_acc: 0.9244\n",
      "Epoch 67/100\n",
      "4067/4067 [==============================] - 1s 163us/step - loss: 0.0850 - acc: 0.9936 - val_loss: 0.3566 - val_acc: 0.9455\n",
      "Epoch 68/100\n",
      "4067/4067 [==============================] - 1s 167us/step - loss: 0.0780 - acc: 0.9943 - val_loss: 0.3655 - val_acc: 0.9449\n",
      "Epoch 69/100\n",
      "4067/4067 [==============================] - 1s 171us/step - loss: 0.0877 - acc: 0.9934 - val_loss: 0.2998 - val_acc: 0.9506\n",
      "Epoch 70/100\n",
      "4067/4067 [==============================] - 1s 171us/step - loss: 0.0864 - acc: 0.9902 - val_loss: 0.6865 - val_acc: 0.9115\n",
      "Epoch 71/100\n",
      "4067/4067 [==============================] - 1s 198us/step - loss: 0.1136 - acc: 0.9840 - val_loss: 0.3640 - val_acc: 0.9449\n",
      "Epoch 72/100\n",
      "4067/4067 [==============================] - 1s 177us/step - loss: 0.0753 - acc: 0.9936 - val_loss: 0.3492 - val_acc: 0.9327\n",
      "Epoch 73/100\n",
      "4067/4067 [==============================] - 1s 161us/step - loss: 0.0732 - acc: 0.9924 - val_loss: 0.2949 - val_acc: 0.9526\n",
      "Epoch 74/100\n",
      "4067/4067 [==============================] - 1s 159us/step - loss: 0.0857 - acc: 0.9916 - val_loss: 0.3373 - val_acc: 0.9468\n",
      "Epoch 75/100\n",
      "4067/4067 [==============================] - 1s 198us/step - loss: 0.0713 - acc: 0.9936 - val_loss: 0.3760 - val_acc: 0.9481\n",
      "Epoch 76/100\n",
      "4067/4067 [==============================] - 1s 188us/step - loss: 0.0676 - acc: 0.9948 - val_loss: 0.3635 - val_acc: 0.9500\n",
      "Epoch 77/100\n",
      "4067/4067 [==============================] - 1s 190us/step - loss: 0.0593 - acc: 0.9956 - val_loss: 0.3673 - val_acc: 0.9506\n",
      "Epoch 78/100\n",
      "4067/4067 [==============================] - 1s 162us/step - loss: 0.0528 - acc: 0.9966 - val_loss: 0.3606 - val_acc: 0.9513\n",
      "Epoch 79/100\n",
      "4067/4067 [==============================] - 1s 171us/step - loss: 0.0614 - acc: 0.9958 - val_loss: 0.3850 - val_acc: 0.9481\n",
      "Epoch 80/100\n",
      "4067/4067 [==============================] - 1s 171us/step - loss: 0.0608 - acc: 0.9948 - val_loss: 0.3820 - val_acc: 0.9417\n",
      "Epoch 81/100\n",
      "4067/4067 [==============================] - 1s 204us/step - loss: 0.0610 - acc: 0.9943 - val_loss: 0.3743 - val_acc: 0.9423\n",
      "Epoch 82/100\n",
      "4067/4067 [==============================] - 1s 175us/step - loss: 0.0573 - acc: 0.9961 - val_loss: 0.3764 - val_acc: 0.9455\n",
      "Epoch 83/100\n",
      "4067/4067 [==============================] - 1s 176us/step - loss: 0.1726 - acc: 0.9843 - val_loss: 0.6106 - val_acc: 0.9244\n",
      "Epoch 84/100\n",
      "4067/4067 [==============================] - 1s 180us/step - loss: 0.1196 - acc: 0.9793 - val_loss: 0.3584 - val_acc: 0.9385\n",
      "Epoch 85/100\n",
      "4067/4067 [==============================] - 1s 193us/step - loss: 0.0747 - acc: 0.9914 - val_loss: 0.4965 - val_acc: 0.9391\n",
      "Epoch 86/100\n",
      "4067/4067 [==============================] - 1s 155us/step - loss: 0.0625 - acc: 0.9939 - val_loss: 0.4070 - val_acc: 0.9442\n",
      "Epoch 87/100\n",
      "4067/4067 [==============================] - 1s 173us/step - loss: 0.0549 - acc: 0.9961 - val_loss: 0.4238 - val_acc: 0.9404\n",
      "Epoch 88/100\n",
      "4067/4067 [==============================] - 1s 168us/step - loss: 0.0538 - acc: 0.9951 - val_loss: 0.4148 - val_acc: 0.9436\n",
      "Epoch 89/100\n",
      "4067/4067 [==============================] - 1s 180us/step - loss: 0.0516 - acc: 0.9966 - val_loss: 0.3660 - val_acc: 0.9487\n",
      "Epoch 90/100\n",
      "4067/4067 [==============================] - 1s 176us/step - loss: 0.0559 - acc: 0.9956 - val_loss: 0.4054 - val_acc: 0.9436\n",
      "Epoch 91/100\n",
      "4067/4067 [==============================] - 1s 174us/step - loss: 0.0513 - acc: 0.9966 - val_loss: 0.3786 - val_acc: 0.9487\n",
      "Epoch 92/100\n",
      "4067/4067 [==============================] - 1s 158us/step - loss: 0.0489 - acc: 0.9968 - val_loss: 0.3829 - val_acc: 0.9474\n",
      "Epoch 93/100\n",
      "4067/4067 [==============================] - 1s 160us/step - loss: 0.0485 - acc: 0.9968 - val_loss: 0.3833 - val_acc: 0.9455\n",
      "Epoch 94/100\n",
      "4067/4067 [==============================] - 1s 167us/step - loss: 0.0483 - acc: 0.9968 - val_loss: 0.3779 - val_acc: 0.9494\n",
      "Epoch 95/100\n",
      "4067/4067 [==============================] - 1s 157us/step - loss: 0.0909 - acc: 0.9943 - val_loss: 0.5577 - val_acc: 0.9391\n",
      "Epoch 96/100\n",
      "4067/4067 [==============================] - 1s 178us/step - loss: 0.1495 - acc: 0.9877 - val_loss: 0.5174 - val_acc: 0.9314\n",
      "Epoch 97/100\n",
      "4067/4067 [==============================] - 1s 202us/step - loss: 0.1367 - acc: 0.9857 - val_loss: 0.4735 - val_acc: 0.9494\n",
      "Epoch 98/100\n",
      "4067/4067 [==============================] - 1s 191us/step - loss: 0.1241 - acc: 0.9877 - val_loss: 0.4495 - val_acc: 0.9365\n",
      "Epoch 99/100\n",
      "4067/4067 [==============================] - 1s 161us/step - loss: 0.0919 - acc: 0.9894 - val_loss: 0.3804 - val_acc: 0.9513\n",
      "Epoch 100/100\n",
      "4067/4067 [==============================] - 1s 170us/step - loss: 0.0238 - acc: 0.9966 - val_loss: 0.4088 - val_acc: 0.9494\n"
     ]
    },
    {
     "data": {
      "text/plain": [
       "<keras.callbacks.History at 0x7feb38472438>"
      ]
     },
     "execution_count": 102,
     "metadata": {
      "tags": []
     },
     "output_type": "execute_result"
    }
   ],
   "source": [
    "import math\n",
    "#adam = optimizers.Adam(lr=0.004)\n",
    "model.compile(loss='categorical_crossentropy', optimizer='adam', metrics=['accuracy'])\n",
    "model.fit(X_train_s,Y_train_s, epochs=100, batch_size=32,validation_data=(X_val_s, Y_val_s), verbose=1)\n",
    "#K.clear_session()\n"
   ]
  },
  {
   "cell_type": "code",
   "execution_count": 0,
   "metadata": {
    "colab": {},
    "colab_type": "code",
    "id": "W7GZ1paKJuwG"
   },
   "outputs": [],
   "source": [
    "#saving model\n",
    "model.save('final_model_static.h5')"
   ]
  },
  {
   "cell_type": "markdown",
   "metadata": {
    "colab_type": "text",
    "id": "CWi-jDWCZl_L"
   },
   "source": [
    "## Classifyinf dynamic activities "
   ]
  },
  {
   "cell_type": "code",
   "execution_count": 0,
   "metadata": {
    "colab": {},
    "colab_type": "code",
    "id": "DIhyITqz8BFE"
   },
   "outputs": [],
   "source": [
    "##data preparation\n",
    "def load_y(subset):\n",
    "\n",
    "    \"\"\"\n",
    "    The objective that we are trying to predict is a integer, from 1 to 6,\n",
    "    that represents a human activity. We return a binary representation of \n",
    "    every sample objective as a 6 bits vector using One Hot Encoding\n",
    "    \"\"\"\n",
    "  filename = f'drive/My Drive/UCI_HAR_Dataset/{subset}/y_{subset}.txt'\n",
    "  y = _read_csv(filename)[0]\n",
    "  y_subset = y<=3 #classifying for  dynamic activities \n",
    "  y = y[y_subset]\n",
    "  return pd.get_dummies(y).as_matrix(),y_subset\n",
    "    \n",
    "Y_train_d,y_train_sub = load_y('train')\n",
    "Y_val_d,y_test_sub = load_y('test')\n",
    "X_train_d, X_val_d = load_signals('train'), load_signals('test')\n",
    "X_train_d = X_train_d[y_train_sub]\n",
    "X_val_d = X_val_d[y_test_sub]\n"
   ]
  },
  {
   "cell_type": "markdown",
   "metadata": {
    "colab_type": "text",
    "id": "hki2OnaiaO5k"
   },
   "source": [
    "## Architecture 3 with adam optimizer "
   ]
  },
  {
   "cell_type": "code",
   "execution_count": 0,
   "metadata": {
    "colab": {
     "base_uri": "https://localhost:8080/",
     "height": 386
    },
    "colab_type": "code",
    "id": "rqiQeoFe82lO",
    "outputId": "ffc77c70-285e-4ed1-c7bd-baed3794f96b"
   },
   "outputs": [
    {
     "name": "stdout",
     "output_type": "stream",
     "text": [
      "Model: \"sequential_3\"\n",
      "_________________________________________________________________\n",
      "Layer (type)                 Output Shape              Param #   \n",
      "=================================================================\n",
      "conv1d_5 (Conv1D)            (None, 122, 64)           4096      \n",
      "_________________________________________________________________\n",
      "conv1d_6 (Conv1D)            (None, 120, 32)           6176      \n",
      "_________________________________________________________________\n",
      "dropout_3 (Dropout)          (None, 120, 32)           0         \n",
      "_________________________________________________________________\n",
      "max_pooling1d_3 (MaxPooling1 (None, 40, 32)            0         \n",
      "_________________________________________________________________\n",
      "flatten_3 (Flatten)          (None, 1280)              0         \n",
      "_________________________________________________________________\n",
      "dense_5 (Dense)              (None, 30)                38430     \n",
      "_________________________________________________________________\n",
      "dense_6 (Dense)              (None, 3)                 93        \n",
      "=================================================================\n",
      "Total params: 48,795\n",
      "Trainable params: 48,795\n",
      "Non-trainable params: 0\n",
      "_________________________________________________________________\n"
     ]
    }
   ],
   "source": [
    "np.random.seed(0)\n",
    "#tf.set_random_seed(0)\n",
    "#sess = tf.Session(graph=tf.get_default_graph())\n",
    "#K.set_session(sess)\n",
    "model = Sequential()\n",
    "model.add(Conv1D(filters=64, kernel_size=7, activation='relu',kernel_initializer='he_uniform',input_shape=(128,9)))\n",
    "model.add(Conv1D(filters=32, kernel_size=3, activation='relu',kernel_initializer='he_uniform'))\n",
    "model.add(Dropout(0.6))\n",
    "model.add(MaxPooling1D(pool_size=3))\n",
    "model.add(Flatten())\n",
    "model.add(Dense(30, activation='relu'))\n",
    "model.add(Dense(3, activation='softmax'))\n",
    "model.summary()"
   ]
  },
  {
   "cell_type": "code",
   "execution_count": 0,
   "metadata": {
    "colab": {
     "base_uri": "https://localhost:8080/",
     "height": 1000
    },
    "colab_type": "code",
    "id": "pnQPFNM-9O9f",
    "outputId": "55d019b1-c2e4-4320-8a27-00269471f2e4"
   },
   "outputs": [
    {
     "name": "stdout",
     "output_type": "stream",
     "text": [
      "Train on 4067 samples, validate on 1560 samples\n",
      "Epoch 1/100\n",
      "4067/4067 [==============================] - 1s 255us/step - loss: 0.3476 - acc: 0.8670 - val_loss: 0.2779 - val_acc: 0.8994\n",
      "Epoch 2/100\n",
      "4067/4067 [==============================] - 1s 158us/step - loss: 0.2045 - acc: 0.9137 - val_loss: 0.2820 - val_acc: 0.9071\n",
      "Epoch 3/100\n",
      "4067/4067 [==============================] - 1s 170us/step - loss: 0.1711 - acc: 0.9265 - val_loss: 0.2314 - val_acc: 0.9147\n",
      "Epoch 4/100\n",
      "4067/4067 [==============================] - 1s 199us/step - loss: 0.1420 - acc: 0.9383 - val_loss: 0.2294 - val_acc: 0.9083\n",
      "Epoch 5/100\n",
      "4067/4067 [==============================] - 1s 160us/step - loss: 0.1276 - acc: 0.9493 - val_loss: 0.2400 - val_acc: 0.9090\n",
      "Epoch 6/100\n",
      "4067/4067 [==============================] - 1s 172us/step - loss: 0.1130 - acc: 0.9560 - val_loss: 0.2280 - val_acc: 0.9288\n",
      "Epoch 7/100\n",
      "4067/4067 [==============================] - 1s 180us/step - loss: 0.1322 - acc: 0.9466 - val_loss: 0.2019 - val_acc: 0.9295\n",
      "Epoch 8/100\n",
      "4067/4067 [==============================] - 1s 205us/step - loss: 0.1022 - acc: 0.9602 - val_loss: 0.2097 - val_acc: 0.9224\n",
      "Epoch 9/100\n",
      "4067/4067 [==============================] - 1s 164us/step - loss: 0.0880 - acc: 0.9648 - val_loss: 0.1997 - val_acc: 0.9365\n",
      "Epoch 10/100\n",
      "4067/4067 [==============================] - 1s 180us/step - loss: 0.0768 - acc: 0.9705 - val_loss: 0.2056 - val_acc: 0.9410\n",
      "Epoch 11/100\n",
      "4067/4067 [==============================] - 1s 149us/step - loss: 0.0708 - acc: 0.9734 - val_loss: 0.2190 - val_acc: 0.9276\n",
      "Epoch 12/100\n",
      "4067/4067 [==============================] - 1s 159us/step - loss: 0.0578 - acc: 0.9789 - val_loss: 0.2184 - val_acc: 0.9410\n",
      "Epoch 13/100\n",
      "4067/4067 [==============================] - 1s 175us/step - loss: 0.0655 - acc: 0.9749 - val_loss: 0.3703 - val_acc: 0.8929\n",
      "Epoch 14/100\n",
      "4067/4067 [==============================] - 1s 173us/step - loss: 0.1063 - acc: 0.9688 - val_loss: 0.2262 - val_acc: 0.9353\n",
      "Epoch 15/100\n",
      "4067/4067 [==============================] - 1s 169us/step - loss: 0.0475 - acc: 0.9828 - val_loss: 0.2234 - val_acc: 0.9385\n",
      "Epoch 16/100\n",
      "4067/4067 [==============================] - 1s 180us/step - loss: 0.0409 - acc: 0.9857 - val_loss: 0.2376 - val_acc: 0.9327\n",
      "Epoch 17/100\n",
      "4067/4067 [==============================] - 1s 159us/step - loss: 0.0625 - acc: 0.9791 - val_loss: 0.2653 - val_acc: 0.9269\n",
      "Epoch 18/100\n",
      "4067/4067 [==============================] - 1s 179us/step - loss: 0.0625 - acc: 0.9789 - val_loss: 0.2322 - val_acc: 0.9256\n",
      "Epoch 19/100\n",
      "4067/4067 [==============================] - 1s 171us/step - loss: 0.0361 - acc: 0.9848 - val_loss: 0.2137 - val_acc: 0.9429\n",
      "Epoch 20/100\n",
      "4067/4067 [==============================] - 1s 165us/step - loss: 0.0404 - acc: 0.9872 - val_loss: 0.2563 - val_acc: 0.9256\n",
      "Epoch 21/100\n",
      "4067/4067 [==============================] - 1s 155us/step - loss: 0.0719 - acc: 0.9793 - val_loss: 0.2927 - val_acc: 0.9295\n",
      "Epoch 22/100\n",
      "4067/4067 [==============================] - 1s 172us/step - loss: 0.0373 - acc: 0.9872 - val_loss: 0.2173 - val_acc: 0.9468\n",
      "Epoch 23/100\n",
      "4067/4067 [==============================] - 1s 185us/step - loss: 0.0392 - acc: 0.9902 - val_loss: 0.2114 - val_acc: 0.9442\n",
      "Epoch 24/100\n",
      "4067/4067 [==============================] - 1s 154us/step - loss: 0.0266 - acc: 0.9892 - val_loss: 0.1900 - val_acc: 0.9455\n",
      "Epoch 25/100\n",
      "4067/4067 [==============================] - 1s 170us/step - loss: 0.0325 - acc: 0.9887 - val_loss: 0.2233 - val_acc: 0.9391\n",
      "Epoch 26/100\n",
      "4067/4067 [==============================] - 1s 156us/step - loss: 0.0207 - acc: 0.9931 - val_loss: 0.2053 - val_acc: 0.9449\n",
      "Epoch 27/100\n",
      "4067/4067 [==============================] - 1s 159us/step - loss: 0.0200 - acc: 0.9929 - val_loss: 0.2711 - val_acc: 0.9288\n",
      "Epoch 28/100\n",
      "4067/4067 [==============================] - 1s 154us/step - loss: 0.0162 - acc: 0.9966 - val_loss: 0.2365 - val_acc: 0.9436\n",
      "Epoch 29/100\n",
      "4067/4067 [==============================] - 1s 150us/step - loss: 0.0239 - acc: 0.9916 - val_loss: 0.2367 - val_acc: 0.9481\n",
      "Epoch 30/100\n",
      "4067/4067 [==============================] - 1s 162us/step - loss: 0.0306 - acc: 0.9909 - val_loss: 0.2282 - val_acc: 0.9468\n",
      "Epoch 31/100\n",
      "4067/4067 [==============================] - 1s 176us/step - loss: 0.0421 - acc: 0.9887 - val_loss: 0.2950 - val_acc: 0.9397\n",
      "Epoch 32/100\n",
      "4067/4067 [==============================] - 1s 151us/step - loss: 0.0231 - acc: 0.9936 - val_loss: 0.2666 - val_acc: 0.9378\n",
      "Epoch 33/100\n",
      "4067/4067 [==============================] - 1s 169us/step - loss: 0.0270 - acc: 0.9934 - val_loss: 0.3002 - val_acc: 0.9372\n",
      "Epoch 34/100\n",
      "4067/4067 [==============================] - 1s 168us/step - loss: 0.0610 - acc: 0.9899 - val_loss: 0.3175 - val_acc: 0.9295\n",
      "Epoch 35/100\n",
      "4067/4067 [==============================] - 1s 196us/step - loss: 0.0399 - acc: 0.9894 - val_loss: 0.2733 - val_acc: 0.9423\n",
      "Epoch 36/100\n",
      "4067/4067 [==============================] - 1s 184us/step - loss: 0.0187 - acc: 0.9951 - val_loss: 0.2986 - val_acc: 0.9378\n",
      "Epoch 37/100\n",
      "4067/4067 [==============================] - 1s 162us/step - loss: 0.0158 - acc: 0.9963 - val_loss: 0.2824 - val_acc: 0.9468\n",
      "Epoch 38/100\n",
      "4067/4067 [==============================] - 1s 194us/step - loss: 0.0244 - acc: 0.9929 - val_loss: 0.3360 - val_acc: 0.9397\n",
      "Epoch 39/100\n",
      "4067/4067 [==============================] - 1s 192us/step - loss: 0.0497 - acc: 0.9855 - val_loss: 0.3491 - val_acc: 0.9256\n",
      "Epoch 40/100\n",
      "4067/4067 [==============================] - 1s 175us/step - loss: 0.0246 - acc: 0.9924 - val_loss: 0.2767 - val_acc: 0.9365\n",
      "Epoch 41/100\n",
      "4067/4067 [==============================] - 1s 177us/step - loss: 0.0169 - acc: 0.9953 - val_loss: 0.3340 - val_acc: 0.9346\n",
      "Epoch 42/100\n",
      "4067/4067 [==============================] - 1s 175us/step - loss: 0.0085 - acc: 0.9975 - val_loss: 0.3122 - val_acc: 0.9436\n",
      "Epoch 43/100\n",
      "4067/4067 [==============================] - 1s 161us/step - loss: 0.0097 - acc: 0.9968 - val_loss: 0.3316 - val_acc: 0.9391\n",
      "Epoch 44/100\n",
      "4067/4067 [==============================] - 1s 162us/step - loss: 0.0090 - acc: 0.9968 - val_loss: 0.3339 - val_acc: 0.9359\n",
      "Epoch 45/100\n",
      "4067/4067 [==============================] - 1s 170us/step - loss: 0.0330 - acc: 0.9924 - val_loss: 0.3169 - val_acc: 0.9404\n",
      "Epoch 46/100\n",
      "4067/4067 [==============================] - 1s 154us/step - loss: 0.0117 - acc: 0.9968 - val_loss: 0.3301 - val_acc: 0.9378\n",
      "Epoch 47/100\n",
      "4067/4067 [==============================] - 1s 159us/step - loss: 0.0170 - acc: 0.9953 - val_loss: 0.3046 - val_acc: 0.9378\n",
      "Epoch 48/100\n",
      "4067/4067 [==============================] - 1s 170us/step - loss: 0.0068 - acc: 0.9978 - val_loss: 0.3171 - val_acc: 0.9410\n",
      "Epoch 49/100\n",
      "4067/4067 [==============================] - 1s 193us/step - loss: 0.0034 - acc: 0.9990 - val_loss: 0.3148 - val_acc: 0.9474\n",
      "Epoch 50/100\n",
      "4067/4067 [==============================] - 1s 153us/step - loss: 0.0330 - acc: 0.9902 - val_loss: 0.2656 - val_acc: 0.9365\n",
      "Epoch 51/100\n",
      "4067/4067 [==============================] - 1s 160us/step - loss: 0.0100 - acc: 0.9970 - val_loss: 0.3183 - val_acc: 0.9417\n",
      "Epoch 52/100\n",
      "4067/4067 [==============================] - 1s 180us/step - loss: 0.0119 - acc: 0.9953 - val_loss: 0.3634 - val_acc: 0.9340\n",
      "Epoch 53/100\n",
      "4067/4067 [==============================] - 1s 168us/step - loss: 0.0194 - acc: 0.9934 - val_loss: 0.2388 - val_acc: 0.9404\n",
      "Epoch 54/100\n",
      "4067/4067 [==============================] - 1s 168us/step - loss: 0.0167 - acc: 0.9943 - val_loss: 0.3379 - val_acc: 0.9359\n",
      "Epoch 55/100\n",
      "4067/4067 [==============================] - 1s 156us/step - loss: 0.0631 - acc: 0.9904 - val_loss: 0.3332 - val_acc: 0.9321\n",
      "Epoch 56/100\n",
      "4067/4067 [==============================] - 1s 157us/step - loss: 0.0863 - acc: 0.9880 - val_loss: 0.3172 - val_acc: 0.9314\n",
      "Epoch 57/100\n",
      "4067/4067 [==============================] - 1s 167us/step - loss: 0.0834 - acc: 0.9867 - val_loss: 0.2751 - val_acc: 0.9327\n",
      "Epoch 58/100\n",
      "4067/4067 [==============================] - 1s 190us/step - loss: 0.0086 - acc: 0.9973 - val_loss: 0.2908 - val_acc: 0.9378\n",
      "Epoch 59/100\n",
      "4067/4067 [==============================] - 1s 188us/step - loss: 0.0128 - acc: 0.9968 - val_loss: 0.2903 - val_acc: 0.9404\n",
      "Epoch 60/100\n",
      "4067/4067 [==============================] - 1s 171us/step - loss: 0.0081 - acc: 0.9983 - val_loss: 0.2952 - val_acc: 0.9410\n",
      "Epoch 61/100\n",
      "4067/4067 [==============================] - 1s 195us/step - loss: 0.0048 - acc: 0.9993 - val_loss: 0.3342 - val_acc: 0.9410\n",
      "Epoch 62/100\n",
      "4067/4067 [==============================] - 1s 203us/step - loss: 0.0035 - acc: 0.9985 - val_loss: 0.3035 - val_acc: 0.9442\n",
      "Epoch 63/100\n",
      "4067/4067 [==============================] - 1s 177us/step - loss: 0.0079 - acc: 0.9975 - val_loss: 0.3650 - val_acc: 0.9308\n",
      "Epoch 64/100\n",
      "4067/4067 [==============================] - 1s 160us/step - loss: 0.0451 - acc: 0.9961 - val_loss: 0.2983 - val_acc: 0.9449\n",
      "Epoch 65/100\n",
      "4067/4067 [==============================] - 1s 189us/step - loss: 0.0121 - acc: 0.9980 - val_loss: 0.3568 - val_acc: 0.9353\n",
      "Epoch 66/100\n",
      "4067/4067 [==============================] - 1s 195us/step - loss: 0.0221 - acc: 0.9953 - val_loss: 0.3420 - val_acc: 0.9288\n",
      "Epoch 67/100\n",
      "4067/4067 [==============================] - 1s 161us/step - loss: 0.0358 - acc: 0.9931 - val_loss: 0.3005 - val_acc: 0.9346\n",
      "Epoch 68/100\n",
      "4067/4067 [==============================] - 1s 170us/step - loss: 0.0147 - acc: 0.9966 - val_loss: 0.2908 - val_acc: 0.9391\n",
      "Epoch 69/100\n",
      "4067/4067 [==============================] - 1s 174us/step - loss: 0.0035 - acc: 0.9990 - val_loss: 0.2684 - val_acc: 0.9385\n",
      "Epoch 70/100\n",
      "4067/4067 [==============================] - 1s 155us/step - loss: 0.0023 - acc: 0.9995 - val_loss: 0.3370 - val_acc: 0.9385\n",
      "Epoch 71/100\n",
      "4067/4067 [==============================] - 1s 162us/step - loss: 0.0019 - acc: 0.9998 - val_loss: 0.3201 - val_acc: 0.9397\n",
      "Epoch 72/100\n",
      "4067/4067 [==============================] - 1s 173us/step - loss: 0.0051 - acc: 0.9983 - val_loss: 0.3001 - val_acc: 0.9346\n",
      "Epoch 73/100\n",
      "4067/4067 [==============================] - 1s 172us/step - loss: 0.0109 - acc: 0.9951 - val_loss: 0.2409 - val_acc: 0.9442\n",
      "Epoch 74/100\n",
      "4067/4067 [==============================] - 1s 180us/step - loss: 0.0046 - acc: 0.9988 - val_loss: 0.2642 - val_acc: 0.9442\n",
      "Epoch 75/100\n",
      "4067/4067 [==============================] - 1s 179us/step - loss: 8.2844e-04 - acc: 0.9998 - val_loss: 0.2904 - val_acc: 0.9410\n",
      "Epoch 76/100\n",
      "4067/4067 [==============================] - 1s 153us/step - loss: 0.0253 - acc: 0.9943 - val_loss: 0.2873 - val_acc: 0.9404\n",
      "Epoch 77/100\n",
      "4067/4067 [==============================] - 1s 155us/step - loss: 0.0262 - acc: 0.9978 - val_loss: 0.3308 - val_acc: 0.9417\n",
      "Epoch 78/100\n",
      "4067/4067 [==============================] - 1s 155us/step - loss: 0.0316 - acc: 0.9929 - val_loss: 0.3651 - val_acc: 0.9147\n",
      "Epoch 79/100\n",
      "4067/4067 [==============================] - 1s 183us/step - loss: 0.0755 - acc: 0.9870 - val_loss: 0.3163 - val_acc: 0.9391\n",
      "Epoch 80/100\n",
      "4067/4067 [==============================] - 1s 167us/step - loss: 0.0174 - acc: 0.9975 - val_loss: 0.3459 - val_acc: 0.9410\n",
      "Epoch 81/100\n",
      "4067/4067 [==============================] - 1s 178us/step - loss: 0.0156 - acc: 0.9961 - val_loss: 0.3797 - val_acc: 0.9378\n",
      "Epoch 82/100\n",
      "4067/4067 [==============================] - 1s 175us/step - loss: 0.0374 - acc: 0.9897 - val_loss: 0.3261 - val_acc: 0.9410\n",
      "Epoch 83/100\n",
      "4067/4067 [==============================] - 1s 171us/step - loss: 0.0147 - acc: 0.9966 - val_loss: 0.3063 - val_acc: 0.9449\n",
      "Epoch 84/100\n",
      "4067/4067 [==============================] - 1s 164us/step - loss: 0.0099 - acc: 0.9968 - val_loss: 0.3343 - val_acc: 0.9391\n",
      "Epoch 85/100\n",
      "4067/4067 [==============================] - 1s 150us/step - loss: 0.0366 - acc: 0.9897 - val_loss: 0.2399 - val_acc: 0.9391\n",
      "Epoch 86/100\n",
      "4067/4067 [==============================] - 1s 188us/step - loss: 0.0133 - acc: 0.9983 - val_loss: 0.3571 - val_acc: 0.9314\n",
      "Epoch 87/100\n",
      "4067/4067 [==============================] - 1s 177us/step - loss: 0.0169 - acc: 0.9963 - val_loss: 0.2967 - val_acc: 0.9385\n",
      "Epoch 88/100\n",
      "4067/4067 [==============================] - 1s 175us/step - loss: 0.0063 - acc: 0.9988 - val_loss: 0.2909 - val_acc: 0.9340\n",
      "Epoch 89/100\n",
      "4067/4067 [==============================] - 1s 191us/step - loss: 0.0150 - acc: 0.9973 - val_loss: 0.2770 - val_acc: 0.9487\n",
      "Epoch 90/100\n",
      "4067/4067 [==============================] - 1s 213us/step - loss: 0.0053 - acc: 0.9983 - val_loss: 0.2597 - val_acc: 0.9449\n",
      "Epoch 91/100\n",
      "4067/4067 [==============================] - 1s 157us/step - loss: 0.0033 - acc: 0.9993 - val_loss: 0.3006 - val_acc: 0.9378\n",
      "Epoch 92/100\n",
      "4067/4067 [==============================] - 1s 164us/step - loss: 0.0040 - acc: 0.9985 - val_loss: 0.2744 - val_acc: 0.9423\n",
      "Epoch 93/100\n",
      "4067/4067 [==============================] - 1s 176us/step - loss: 7.8494e-04 - acc: 1.0000 - val_loss: 0.2987 - val_acc: 0.9423\n",
      "Epoch 94/100\n",
      "4067/4067 [==============================] - 1s 210us/step - loss: 0.0023 - acc: 0.9993 - val_loss: 0.3487 - val_acc: 0.9391\n",
      "Epoch 95/100\n",
      "4067/4067 [==============================] - 1s 162us/step - loss: 6.0790e-04 - acc: 1.0000 - val_loss: 0.3338 - val_acc: 0.9410\n",
      "Epoch 96/100\n",
      "4067/4067 [==============================] - 1s 169us/step - loss: 3.4648e-04 - acc: 1.0000 - val_loss: 0.3287 - val_acc: 0.9417\n",
      "Epoch 97/100\n",
      "4067/4067 [==============================] - 1s 159us/step - loss: 0.0048 - acc: 0.9985 - val_loss: 0.2803 - val_acc: 0.9436\n",
      "Epoch 98/100\n",
      "4067/4067 [==============================] - 1s 167us/step - loss: 0.0076 - acc: 0.9978 - val_loss: 0.2691 - val_acc: 0.9494\n",
      "Epoch 99/100\n",
      "4067/4067 [==============================] - 1s 166us/step - loss: 0.0022 - acc: 0.9998 - val_loss: 0.2917 - val_acc: 0.9449\n",
      "Epoch 100/100\n",
      "4067/4067 [==============================] - 1s 185us/step - loss: 0.0051 - acc: 0.9980 - val_loss: 0.2898 - val_acc: 0.9455\n"
     ]
    },
    {
     "data": {
      "text/plain": [
       "<keras.callbacks.History at 0x7feb383fb3c8>"
      ]
     },
     "execution_count": 106,
     "metadata": {
      "tags": []
     },
     "output_type": "execute_result"
    }
   ],
   "source": [
    "import math\n",
    "import keras\n",
    "#adam = keras.optimizers.Adam(lr=0.004)\n",
    "model.compile(loss='categorical_crossentropy', optimizer='adam', metrics=['accuracy'])\n",
    "model.fit(X_train_s,Y_train_s, epochs=100, batch_size=32,validation_data=(X_val_s, Y_val_s), verbose=1)\n",
    "#K.clear_session()"
   ]
  },
  {
   "cell_type": "code",
   "execution_count": 0,
   "metadata": {
    "colab": {},
    "colab_type": "code",
    "id": "aJu_GmABLnPt"
   },
   "outputs": [],
   "source": [
    "#saving model\n",
    "model.save('final_model_dynamic.h5')"
   ]
  },
  {
   "cell_type": "markdown",
   "metadata": {
    "colab_type": "text",
    "id": "oJhrayLfaart"
   },
   "source": [
    "## Final model and results "
   ]
  },
  {
   "cell_type": "code",
   "execution_count": 0,
   "metadata": {
    "colab": {},
    "colab_type": "code",
    "id": "aFhA4khw_mNQ"
   },
   "outputs": [],
   "source": [
    "#getting all the models\n",
    "from keras.models import load_model\n",
    "#getting the models\n",
    "model_2class = load_model('final_model_2c.h5')\n",
    "model_dynamic = load_model('final_model_dynamic.h5')\n",
    "model_static = load_model('final_model_static.h5')\n",
    "#for all the classses \n",
    "class_2 = pickle.load(open('2class.p','rb'))\n",
    "static = pickle.load(open('static.p','rb'))\n",
    "dynamic = pickle.load(open('dynamic.p','rb'))"
   ]
  },
  {
   "cell_type": "code",
   "execution_count": 0,
   "metadata": {
    "colab": {},
    "colab_type": "code",
    "id": "aXTWL2Wt_0pT"
   },
   "outputs": [],
   "source": [
    "#predicting output activity\n",
    "def predict_activity(X):\n",
    "    ##predicting whether dynamic or static\n",
    "    predict_2class = model_2class.predict(transform_data(X,scale_2class))\n",
    "    Y_pred_2class =  np.argmax(predict_2class, axis=1)\n",
    "    #static data filter\n",
    "    X_static = X[Y_pred_2class==1]\n",
    "    #dynamic data filter\n",
    "    X_dynamic = X[Y_pred_2class==0]\n",
    "    #predicting static activities\n",
    "    predict_static = model_static.predict(transform_data(X_static,scale_static))\n",
    "    predict_static = np.argmax(predict_static,axis=1)\n",
    "    #adding 4 because need to get inal prediction lable as output\n",
    "    predict_static = predict_static + 4\n",
    "    #predicting dynamic activites\n",
    "    predict_dynamic = model_dynamic.predict(transform_data(X_dynamic,scale_dynamic))\n",
    "    predict_dynamic = np.argmax(predict_dynamic,axis=1)\n",
    "    #adding 1 because need to get inal prediction lable as output\n",
    "    predict_dynamic = predict_dynamic + 1\n",
    "    ##appending final output to one list in the same sequence of input data\n",
    "    i,j = 0,0 \n",
    "    final_pred = []\n",
    "    for mask in Y_pred_2class:\n",
    "        if mask == 1:\n",
    "            final_pred.append(predict_static[i])\n",
    "            i = i + 1\n",
    "        else:\n",
    "            final_pred.append(predict_dynamic[j])\n",
    "            j = j + 1 \n",
    "    return final_pred"
   ]
  },
  {
   "cell_type": "code",
   "execution_count": 0,
   "metadata": {
    "colab": {},
    "colab_type": "code",
    "id": "t4-myl-DALtv"
   },
   "outputs": [],
   "source": [
    "##predicting \n",
    "final_pred_val = predict_activity(X_test)\n",
    "final_pred_train = predict_activity(X_train)"
   ]
  },
  {
   "cell_type": "code",
   "execution_count": 1,
   "metadata": {
    "colab": {
     "base_uri": "https://localhost:8080/",
     "height": 50
    },
    "colab_type": "code",
    "id": "fTewSOePboM5",
    "outputId": "a02313d6-cb1e-42a7-da9b-c388ecf330f4"
   },
   "outputs": [
    {
     "name": "stdout",
     "output_type": "stream",
     "text": [
      "Accuracy of train data: 0.963949945593036\n",
      "Accuracy of validation data: 0.9518384798099763\n"
     ]
    }
   ],
   "source": [
    "##accuracy of train and test\n",
    "from sklearn.metrics import accuracy_score\n",
    "print('Accuracy of train data:',accuracy_score(Y_train,final_pred_train))\n",
    "print('Accuracy of validation data:',accuracy_score(Y_val,final_pred_val))"
   ]
  },
  {
   "cell_type": "markdown",
   "metadata": {
    "colab": {},
    "colab_type": "code",
    "id": "s4Z7KdzZMeYp"
   },
   "source": [
    "## so here we finally get the best performing model with test accuracy of 0.95 and trainaccuracy of 0.96 using divide and conquer methods "
   ]
  }
 ],
 "metadata": {
  "accelerator": "GPU",
  "colab": {
   "name": "HAR_LSTM.ipynb",
   "provenance": []
  },
  "kernelspec": {
   "display_name": "Python 3",
   "language": "python",
   "name": "python3"
  },
  "language_info": {
   "codemirror_mode": {
    "name": "ipython",
    "version": 3
   },
   "file_extension": ".py",
   "mimetype": "text/x-python",
   "name": "python",
   "nbconvert_exporter": "python",
   "pygments_lexer": "ipython3",
   "version": "3.6.5"
  }
 },
 "nbformat": 4,
 "nbformat_minor": 1
}
